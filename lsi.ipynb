{
  "cells": [
    {
      "cell_type": "code",
      "execution_count": 2,
      "metadata": {
        "pycharm": {}
      },
      "outputs": [],
      "source": [
        "%matplotlib inline"
      ]
    },
    {
      "cell_type": "markdown",
      "metadata": {
        "pycharm": {}
      },
      "source": [
        "\n",
        "# Topic extraction with Non-negative Matrix Factorization and Latent Dirichlet Allocation\n",
        "\n",
        "\n",
        "This is an example of applying :class:`sklearn.decomposition.NMF` and\n",
        ":class:`sklearn.decomposition.LatentDirichletAllocation` on a corpus\n",
        "of documents and extract additive models of the topic structure of the\n",
        "corpus.  The output is a list of topics, each represented as a list of\n",
        "terms (weights are not shown).\n",
        "\n",
        "Non-negative Matrix Factorization is applied with two different objective\n",
        "functions: the Frobenius norm, and the generalized Kullback-Leibler divergence.\n",
        "The latter is equivalent to Probabilistic Latent Semantic Indexing.\n",
        "\n",
        "The default parameters (n_samples / n_features / n_components) should make\n",
        "the example runnable in a couple of tens of seconds. You can try to\n",
        "increase the dimensions of the problem, but be aware that the time\n",
        "complexity is polynomial in NMF. In LDA, the time complexity is\n",
        "proportional to (n_samples * iterations).\n",
        "\n",
        "\n"
      ]
    },
    {
      "cell_type": "code",
      "execution_count": 11,
      "metadata": {
        "pycharm": {}
      },
      "outputs": [
        {
          "name": "stdout",
          "output_type": "stream",
          "text": [
            "Loading dataset...\n",
            "loaded 20000 samples in 5.629s.\n"
          ]
        }
      ],
      "source": [
        "# Author: Olivier Grisel \u003colivier.grisel@ensta.org\u003e\n",
        "#         Lars Buitinck\n",
        "#         Chyi-Kwei Yau \u003cchyikwei.yau@gmail.com\u003e\n",
        "# License: BSD 3 clause\n",
        "\n",
        "from __future__ import print_function\n",
        "\n",
        "import itertools\n",
        "from pathlib import Path\n",
        "from time import time\n",
        "import os\n",
        "\n",
        "from text_processing.simple import parse_all\n",
        "\n",
        "n_samples \u003d 20000\n",
        "n_topics \u003d 400\n",
        "\n",
        "\n",
        "print(\"Loading dataset...\")\n",
        "t0 \u003d time()\n",
        "data_samples \u003d list(itertools.islice(parse_all(\"./out/docs_simple2\", from_cache\u003dTrue), n_samples))\n",
        "print(\"loaded %d samples in %0.3fs.\" % (len(data_samples), time() - t0))"
      ]
    },
    {
      "cell_type": "code",
      "execution_count": 12,
      "metadata": {
        "pycharm": {}
      },
      "outputs": [],
      "source": [
        "from collections import defaultdict\n",
        "\n",
        "from nltk.stem.snowball import SnowballStemmer\n",
        "\n",
        "import numpy as np\n",
        "\n",
        "\n",
        "class key_dependent_dict(defaultdict):\n",
        "    def __init__(self, f_of_x):\n",
        "        super().__init__(None) # base class doesn\u0027t get a factory\n",
        "        self.f_of_x \u003d f_of_x # save f(x)\n",
        "    def __missing__(self, key): # called when a default needed\n",
        "        ret \u003d self.f_of_x(key) # calculate default value\n",
        "        self[key] \u003d ret # and install it in the dict\n",
        "        return ret\n",
        "\n",
        "\n",
        "STOP_WORDS \u003d {\u0027от\u0027, \u0027на\u0027, \u0027не\u0027, \u0027рф\u0027, \u0027ст\u0027}\n",
        "\n",
        "stemmer \u003d SnowballStemmer(\"russian\")\n",
        "CACHE \u003d key_dependent_dict(lambda w: stemmer.stem(w))"
      ]
    },
    {
      "cell_type": "code",
      "execution_count": 13,
      "metadata": {
        "pycharm": {}
      },
      "outputs": [
        {
          "name": "stdout",
          "output_type": "stream",
          "text": [
            "12294\n"
          ]
        }
      ],
      "source": [
        "from gensim import corpora, models, similarities\n",
        "from sklearn.feature_extraction.text import TfidfVectorizer\n",
        "\n",
        "analyzer \u003d TfidfVectorizer().build_analyzer()\n",
        "texts \u003d [[CACHE[w] for w in analyzer(doc) if w not in STOP_WORDS] for doc in data_samples]\n",
        "dictionary \u003d corpora.Dictionary(texts)\n",
        "\n",
        "dictionary.filter_extremes(no_below\u003d10, no_above\u003d0.66)\n",
        "print(len(dictionary))"
      ]
    },
    {
      "cell_type": "code",
      "execution_count": 14,
      "metadata": {
        "pycharm": {}
      },
      "outputs": [],
      "source": "corpus \u003d [dictionary.doc2bow(text) for text in texts]\ntfidf \u003d models.TfidfModel(corpus, smartirs\u003d\u0027ntc\u0027)\ncorpus_tfidf \u003d tfidf[corpus]"
    },
    {
      "cell_type": "code",
      "execution_count": 15,
      "metadata": {
        "pycharm": {}
      },
      "outputs": [
        {
          "name": "stdout",
          "output_type": "stream",
          "text": [
            "LSI index built in 178.079s\n"
          ]
        }
      ],
      "source": [
        "t0 \u003d time()\n",
        "lsi \u003d models.LsiModel(corpus_tfidf, id2word\u003ddictionary, num_topics\u003dn_topics*2)\n",
        "index \u003d similarities.MatrixSimilarity(lsi[corpus_tfidf]) # transform corpus to LSI space and index it\n",
        "print(\"LSI index built in %.3fs\" % (time()-t0))"
      ]
    },
    {
      "cell_type": "code",
      "execution_count": 19,
      "metadata": {
        "pycharm": {}
      },
      "outputs": [
        {
          "data": {
            "image/png": "[encoded data removed]",
            "text/plain": [
              "\u003cFigure size 720x360 with 1 Axes\u003e"
            ]
          },
          "metadata": {
            "needs_background": "light"
          },
          "output_type": "display_data"
        }
      ],
      "source": [
        "s \u003d lsi.projection.s\n",
        "\n",
        "import matplotlib.pyplot as plt\n",
        "plt.figure(figsize\u003d(10,5))\n",
        "plt.plot(s[10:])\n",
        "#plt.plot(np.cumsum(s[:]), c\u003d\u0027green\u0027)\n",
        "plt.xlabel(\u0027Singular values\u0027, fontsize\u003d12)\n",
        "plt.grid(True, \u0027both\u0027)\n",
        "plt.show()"
      ]
    },
    {
      "cell_type": "code",
      "execution_count": 17,
      "metadata": {
        "pycharm": {}
      },
      "outputs": [
        {
          "data": {
            "text/plain": [
              "[(0,\n",
              "  \u00270.277*\"неустойк\" + 0.249*\"услуг\" + 0.194*\"энерг\" + 0.180*\"товар\" + 0.160*\"работ\" + 0.132*\"год\" + 0.127*\"средств\" + 0.126*\"пен\" + 0.109*\"ден\" + 0.108*\"организац\" + 0.108*\"поставк\" + 0.107*\"фактическ\" + 0.107*\"просрочк\" + 0.106*\"заказчик\" + 0.094*\"кредитор\" + 0.094*\"имуществ\" + 0.088*\"покупател\" + 0.088*\"счет\" + 0.087*\"процент\" + 0.086*\"выполнен\" + 0.084*\"обяз\" + 0.080*\"долг\" + 0.080*\"стоимост\" + 0.079*\"плат\" + 0.079*\"датег\" + 0.078*\"должник\" + 0.077*\"федеральн\" + 0.077*\"документ\" + 0.075*\"решен\" + 0.071*\"электрическ\"\u0027),\n",
              " (1,\n",
              "  \u00270.546*\"энерг\" + -0.326*\"работ\" + -0.220*\"товар\" + 0.197*\"электрическ\" + 0.174*\"теплов\" + 0.173*\"потреблен\" + -0.169*\"выполнен\" + 0.158*\"организац\" + -0.154*\"заказчик\" + 0.139*\"потребител\" + 0.131*\"фактическ\" + 0.130*\"абонент\" + 0.102*\"ден\" + 0.099*\"коммунальн\" + 0.099*\"сет\" + -0.098*\"подрядчик\" + -0.092*\"средств\" + 0.083*\"прибор\" + 0.082*\"энергоснабжен\" + -0.082*\"контракт\" + 0.081*\"мощност\" + -0.078*\"покупател\" + 0.077*\"месяц\" + 0.076*\"вод\" + -0.073*\"процент\" + -0.071*\"результат\" + 0.065*\"дом\" + 0.064*\"присоединен\" + 0.062*\"горяч\" + 0.061*\"пен\"\u0027),\n",
              " (2,\n",
              "  \u00270.582*\"товар\" + -0.375*\"работ\" + 0.273*\"покупател\" + 0.273*\"поставк\" + -0.208*\"услуг\" + -0.193*\"выполнен\" + -0.171*\"заказчик\" + 0.150*\"поставщик\" + 0.139*\"неустойк\" + -0.102*\"подрядчик\" + 0.089*\"поставлен\" + -0.089*\"имуществ\" + -0.087*\"дом\" + -0.079*\"помещен\" + 0.078*\"накладн\" + 0.071*\"товарн\" + -0.071*\"результат\" + -0.070*\"объект\" + -0.065*\"плат\" + -0.060*\"многоквартирн\" + -0.057*\"исполнител\" + 0.057*\"продаж\" + -0.055*\"оказа\" + -0.054*\"ремонт\" + -0.052*\"подряд\" + -0.052*\"оказан\" + -0.052*\"аренд\" + 0.052*\"переда\" + 0.052*\"купл\" + 0.051*\"продукц\"\u0027),\n",
              " (3,\n",
              "  \u0027-0.400*\"работ\" + 0.303*\"плат\" + 0.282*\"аренд\" + 0.260*\"арендн\" + 0.232*\"имуществ\" + 0.216*\"земельн\" + -0.208*\"заказчик\" + -0.206*\"выполнен\" + 0.169*\"арендатор\" + 0.167*\"участк\" + -0.166*\"энерг\" + -0.139*\"контракт\" + -0.123*\"подрядчик\" + 0.122*\"помещен\" + 0.120*\"пользован\" + 0.105*\"арендодател\" + -0.100*\"товар\" + 0.094*\"собствен\" + 0.080*\"страхов\" + 0.072*\"внесен\" + 0.070*\"площад\" + -0.069*\"поставк\" + -0.067*\"услуг\" + 0.064*\"кв\" + -0.064*\"электрическ\" + 0.063*\"год\" + 0.062*\"средств\" + 0.062*\"возмещен\" + 0.061*\"дом\" + 0.060*\"платеж\"\u0027),\n",
              " (4,\n",
              "  \u0027-0.483*\"услуг\" + 0.284*\"работ\" + -0.261*\"страхов\" + -0.223*\"возмещен\" + 0.188*\"арендн\" + 0.183*\"аренд\" + 0.182*\"плат\" + -0.160*\"транспортн\" + 0.155*\"земельн\" + -0.151*\"средств\" + -0.143*\"выплат\" + 0.139*\"выполнен\" + 0.123*\"участк\" + -0.115*\"потерпевш\" + -0.114*\"оказа\" + 0.110*\"арендатор\" + -0.110*\"страховщик\" + -0.109*\"оказан\" + 0.103*\"контракт\" + 0.100*\"энерг\" + 0.100*\"пен\" + 0.098*\"подрядчик\" + -0.096*\"вред\" + -0.093*\"страхован\" + -0.076*\"причинен\" + 0.076*\"неустойк\" + -0.074*\"юридическ\" + -0.070*\"экспертиз\" + 0.069*\"объект\" + 0.068*\"арендодател\"\u0027),\n",
              " (5,\n",
              "  \u0027-0.559*\"неустойк\" + 0.304*\"услуг\" + 0.235*\"товар\" + -0.215*\"страхов\" + 0.146*\"дом\" + -0.141*\"возмещен\" + 0.129*\"помещен\" + -0.124*\"выплат\" + -0.118*\"333\" + -0.116*\"кредитор\" + 0.110*\"поставк\" + 0.109*\"покупател\" + -0.109*\"ответствен\" + -0.107*\"пен\" + 0.103*\"многоквартирн\" + -0.102*\"просрочк\" + -0.101*\"последств\" + -0.100*\"ден\" + 0.096*\"коммунальн\" + -0.096*\"несоразмерн\" + -0.092*\"транспортн\" + -0.089*\"потерпевш\" + -0.086*\"страховщик\" + 0.082*\"оказа\" + 0.078*\"оказан\" + 0.078*\"имуществ\" + 0.075*\"собственник\" + -0.073*\"убытк\" + -0.073*\"причинен\" + -0.072*\"должник\"\u0027),\n",
              " (6,\n",
              "  \u0027-0.493*\"услуг\" + -0.333*\"неустойк\" + 0.221*\"энерг\" + 0.195*\"страхов\" + -0.172*\"оказа\" + 0.165*\"средств\" + 0.144*\"возмещен\" + -0.139*\"оказан\" + -0.134*\"пен\" + 0.132*\"работ\" + -0.130*\"плат\" + -0.126*\"заказчик\" + -0.115*\"арендн\" + 0.114*\"транспортн\" + -0.113*\"исполнител\" + 0.103*\"имуществ\" + 0.100*\"вред\" + -0.100*\"просрочк\" + 0.091*\"теплов\" + 0.090*\"потерпевш\" + 0.088*\"экспертиз\" + 0.088*\"страховщик\" + 0.084*\"выплат\" + 0.084*\"страхован\" + 0.082*\"потреблен\" + -0.079*\"аренд\" + 0.077*\"убытк\" + 0.075*\"организац\" + 0.074*\"результат\" + 0.074*\"электрическ\"\u0027),\n",
              " (7,\n",
              "  \u00270.377*\"дом\" + 0.286*\"помещен\" + -0.279*\"процент\" + 0.270*\"многоквартирн\" + -0.224*\"средств\" + 0.196*\"неустойк\" + 0.194*\"коммунальн\" + 0.189*\"собственник\" + -0.150*\"пользован\" + 0.150*\"товар\" + 0.147*\"имуществ\" + 0.145*\"содержан\" + 0.140*\"жил\" + -0.133*\"энерг\" + 0.119*\"контракт\" + 0.106*\"управлен\" + -0.103*\"чуж\" + 0.102*\"организац\" + -0.100*\"арендн\" + 0.098*\"ремонт\" + -0.098*\"аренд\" + -0.097*\"возврат\" + -0.094*\"электрическ\" + -0.089*\"счет\" + 0.079*\"жилищн\" + -0.075*\"датег\" + -0.074*\"оказа\" + -0.072*\"неосновательн\" + -0.071*\"395\" + 0.069*\"управля\"\u0027),\n",
              " (8,\n",
              "  \u00270.412*\"процент\" + 0.272*\"средств\" + -0.175*\"земельн\" + 0.172*\"пользован\" + 0.171*\"дом\" + -0.163*\"энерг\" + -0.156*\"услуг\" + -0.147*\"электрическ\" + -0.147*\"участк\" + 0.145*\"чуж\" + -0.142*\"аренд\" + 0.135*\"возврат\" + -0.133*\"арендн\" + -0.133*\"страхов\" + 0.128*\"многоквартирн\" + -0.127*\"контракт\" + -0.126*\"товар\" + 0.126*\"помещен\" + 0.124*\"организац\" + -0.114*\"возмещен\" + 0.113*\"займ\" + 0.111*\"неосновательн\" + 0.110*\"банк\" + 0.108*\"ден\" + -0.098*\"плат\" + 0.098*\"395\" + 0.089*\"коммунальн\" + 0.084*\"заемщик\" + 0.084*\"имуществ\" + 0.083*\"долг\"\u0027),\n",
              " (9,\n",
              "  \u0027-0.250*\"плат\" + 0.231*\"контракт\" + 0.208*\"земельн\" + -0.203*\"арендн\" + 0.194*\"обществ\" + -0.171*\"работ\" + 0.168*\"объект\" + 0.165*\"юридическ\" + 0.165*\"участк\" + -0.162*\"помещен\" + -0.150*\"аренд\" + 0.148*\"решен\" + 0.148*\"федеральн\" + -0.146*\"страхов\" + -0.141*\"арендатор\" + 0.119*\"строительств\" + 0.118*\"участник\" + -0.115*\"дом\" + 0.108*\"организац\" + 0.104*\"собствен\" + 0.096*\"муниципальн\" + -0.095*\"товар\" + -0.095*\"возмещен\" + 0.094*\"регистрац\" + 0.093*\"сделк\" + -0.092*\"многоквартирн\" + -0.090*\"арендодател\" + -0.090*\"коммунальн\" + 0.084*\"област\" + -0.083*\"энерг\"\u0027),\n",
              " (10,\n",
              "  \u0027-0.643*\"контракт\" + 0.227*\"неустойк\" + -0.209*\"пен\" + 0.185*\"электрическ\" + -0.147*\"ден\" + -0.129*\"муниципальн\" + 0.122*\"работ\" + -0.115*\"страхов\" + -0.112*\"дня\" + -0.106*\"фактическ\" + -0.105*\"ставк\" + -0.099*\"средств\" + -0.095*\"просрочк\" + 0.095*\"последств\" + -0.092*\"вод\" + -0.092*\"банк\" + 0.091*\"энерг\" + -0.085*\"заказчик\" + -0.083*\"теплов\" + 0.082*\"юридическ\" + -0.078*\"наступлен\" + -0.075*\"год\" + -0.075*\"водоснабжен\" + 0.075*\"покупател\" + -0.073*\"процент\" + -0.072*\"рефинансирован\" + -0.067*\"транспортн\" + 0.066*\"333\" + -0.065*\"центральн\" + 0.064*\"обществ\"\u0027),\n",
              " (11,\n",
              "  \u0027-0.378*\"электрическ\" + -0.267*\"контракт\" + 0.238*\"организац\" + -0.226*\"процент\" + 0.186*\"вод\" + 0.169*\"теплов\" + -0.162*\"средств\" + -0.142*\"энерг\" + 0.128*\"год\" + 0.124*\"газ\" + -0.123*\"земельн\" + 0.118*\"водоснабжен\" + 0.117*\"взнос\" + 0.112*\"член\" + 0.110*\"юридическ\" + 0.103*\"абонент\" + -0.101*\"мощност\" + -0.100*\"имуществ\" + -0.099*\"пользован\" + 0.096*\"водоотведен\" + -0.095*\"неустойк\" + -0.095*\"электроэнерг\" + 0.093*\"саморегулируем\" + -0.093*\"объект\" + -0.092*\"дом\" + 0.091*\"горяч\" + -0.087*\"собствен\" + -0.087*\"муниципальн\" + -0.087*\"участк\" + -0.086*\"передач\"\u0027),\n",
              " (12,\n",
              "  \u00270.403*\"земельн\" + -0.331*\"контракт\" + 0.312*\"участк\" + -0.193*\"электрическ\" + -0.160*\"год\" + 0.136*\"процент\" + 0.132*\"вод\" + -0.131*\"обществ\" + 0.126*\"теплов\" + 0.126*\"ден\" + -0.117*\"имуществ\" + 0.113*\"работ\" + 0.112*\"фактическ\" + -0.104*\"лизинг\" + -0.102*\"помещен\" + -0.100*\"юридическ\" + 0.100*\"объект\" + 0.100*\"водоснабжен\" + -0.098*\"вагон\" + -0.097*\"груз\" + 0.097*\"кадастров\" + 0.094*\"услуг\" + 0.093*\"собствен\" + -0.091*\"платеж\" + 0.091*\"товар\" + -0.083*\"взнос\" + -0.082*\"участник\" + 0.080*\"участок\" + -0.080*\"арендатор\" + 0.075*\"горяч\"\u0027),\n",
              " (13,\n",
              "  \u00270.423*\"теплов\" + -0.320*\"электрическ\" + -0.276*\"ден\" + -0.205*\"пен\" + 0.200*\"контракт\" + -0.173*\"фактическ\" + -0.169*\"дня\" + -0.157*\"наступлен\" + 0.151*\"энерг\" + 0.144*\"неустойк\" + 0.108*\"теплоснабжен\" + -0.104*\"газ\" + 0.104*\"вод\" + 0.102*\"теплоносител\" + -0.101*\"взнос\" + 0.100*\"груз\" + -0.099*\"дне\" + -0.094*\"организац\" + -0.091*\"календарн\" + -0.090*\"просрочк\" + 0.089*\"горяч\" + -0.089*\"ставк\" + -0.088*\"член\" + -0.086*\"банк\" + -0.084*\"электроэнерг\" + -0.082*\"рефинансирован\" + -0.077*\"начин\" + -0.075*\"поставщик\" + 0.074*\"абонент\" + 0.074*\"333\"\u0027),\n",
              " (14,\n",
              "  \u00270.798*\"датег\" + -0.228*\"год\" + 0.210*\"груз\" + 0.199*\"вагон\" + 0.107*\"перевозк\" + 0.084*\"железнодорожн\" + -0.084*\"процент\" + 0.081*\"пен\" + -0.077*\"юридическ\" + -0.075*\"обществ\" + 0.073*\"перевозчик\" + -0.072*\"2017\" + -0.071*\"товар\" + -0.070*\"работ\" + -0.067*\"арендн\" + 0.067*\"ремонт\" + 0.066*\"накладн\" + -0.061*\"организац\" + -0.058*\"теплов\" + -0.056*\"плат\" + 0.054*\"москв\" + -0.054*\"аренд\" + -0.052*\"средств\" + 0.052*\"транспортн\" + -0.051*\"неустойк\" + 0.051*\"доставк\" + 0.049*\"ден\" + 0.047*\"транспорт\" + 0.046*\"имуществ\" + 0.045*\"станц\"\u0027),\n",
              " (15,\n",
              "  \u00270.392*\"датег\" + -0.328*\"груз\" + -0.297*\"вагон\" + 0.278*\"организац\" + -0.211*\"год\" + 0.193*\"взнос\" + 0.181*\"член\" + -0.164*\"перевозк\" + -0.156*\"газ\" + 0.151*\"саморегулируем\" + -0.135*\"железнодорожн\" + 0.132*\"членск\" + 0.127*\"контракт\" + -0.113*\"перевозчик\" + 0.102*\"некоммерческ\" + -0.088*\"ремонт\" + 0.087*\"страхов\" + 0.086*\"ассоциац\" + -0.085*\"транспортн\" + -0.084*\"пен\" + -0.084*\"накладн\" + -0.082*\"ден\" + -0.081*\"фактическ\" + -0.081*\"доставк\" + 0.079*\"товар\" + -0.073*\"транспорт\" + 0.072*\"арендн\" + -0.071*\"убытк\" + -0.071*\"станц\" + 0.071*\"союз\"\u0027),\n",
              " (16,\n",
              "  \u00270.307*\"организац\" + 0.304*\"груз\" + 0.249*\"вагон\" + -0.229*\"имуществ\" + -0.184*\"газ\" + 0.175*\"взнос\" + 0.162*\"член\" + 0.153*\"земельн\" + 0.152*\"перевозк\" + 0.142*\"плат\" + 0.141*\"саморегулируем\" + 0.141*\"процент\" + -0.135*\"лизинг\" + 0.130*\"участк\" + -0.129*\"датег\" + 0.125*\"железнодорожн\" + 0.123*\"электрическ\" + -0.119*\"обществ\" + 0.117*\"членск\" + -0.111*\"сделк\" + 0.104*\"перевозчик\" + 0.101*\"транспортн\" + 0.097*\"товар\" + 0.093*\"некоммерческ\" + 0.092*\"пользован\" + 0.086*\"средств\" + -0.083*\"платеж\" + 0.082*\"накладн\" + 0.082*\"ассоциац\" + -0.078*\"помещен\"\u0027),\n",
              " (17,\n",
              "  \u0027-0.713*\"год\" + -0.270*\"датег\" + -0.217*\"2017\" + -0.170*\"газ\" + 0.157*\"юридическ\" + 0.117*\"имуществ\" + -0.108*\"2018\" + -0.095*\"2016\" + -0.092*\"неустойк\" + 0.082*\"обществ\" + -0.080*\"поставк\" + 0.078*\"фактическ\" + 0.072*\"аренд\" + 0.070*\"лизинг\" + 0.069*\"пен\" + -0.068*\"страхов\" + 0.067*\"ден\" + 0.065*\"энерг\" + 0.065*\"груз\" + -0.063*\"декабр\" + 0.062*\"теплов\" + 0.060*\"арендатор\" + -0.059*\"процент\" + -0.059*\"земельн\" + 0.059*\"контракт\" + -0.057*\"2015\" + 0.056*\"наступлен\" + 0.052*\"мест\" + -0.051*\"дом\" + -0.051*\"взнос\"\u0027),\n",
              " (18,\n",
              "  \u0027-0.354*\"обществ\" + 0.351*\"газ\" + 0.278*\"имуществ\" + -0.230*\"юридическ\" + -0.212*\"датег\" + 0.144*\"взнос\" + -0.143*\"решен\" + 0.137*\"организац\" + 0.137*\"объект\" + -0.130*\"товар\" + 0.120*\"член\" + -0.117*\"год\" + -0.113*\"участник\" + -0.104*\"плат\" + -0.103*\"коммунальн\" + 0.100*\"саморегулируем\" + 0.098*\"членск\" + 0.097*\"собствен\" + -0.094*\"теплов\" + -0.093*\"арендн\" + 0.087*\"поставк\" + 0.086*\"неустойк\" + 0.078*\"лизинг\" + 0.075*\"некоммерческ\" + -0.073*\"ден\" + 0.073*\"обяз\" + -0.072*\"пен\" + 0.072*\"неосновательн\" + -0.071*\"процент\" + 0.070*\"недвижим\"\u0027),\n",
              " (19,\n",
              "  \u00270.577*\"газ\" + -0.225*\"год\" + -0.208*\"имуществ\" + -0.203*\"лизинг\" + 0.199*\"поставк\" + 0.198*\"обществ\" + -0.175*\"товар\" + -0.154*\"теплов\" + 0.121*\"плат\" + 0.116*\"процент\" + 0.116*\"поставщик\" + 0.107*\"контракт\" + -0.103*\"объект\" + -0.102*\"собствен\" + 0.098*\"юридическ\" + 0.097*\"дом\" + -0.091*\"ден\" + -0.089*\"лизингополучател\" + 0.087*\"арендн\" + -0.086*\"пен\" + -0.086*\"платеж\" + 0.083*\"месяц\" + 0.081*\"транспортировк\" + -0.080*\"передач\" + 0.077*\"участник\" + -0.077*\"предмет\" + 0.075*\"многоквартирн\" + -0.070*\"недвижим\" + -0.069*\"лизингодател\" + 0.068*\"коммунальн\"\u0027)]"
            ]
          },
          "execution_count": 17,
          "metadata": {},
          "output_type": "execute_result"
        }
      ],
      "source": [
        "lsi.print_topics(20,30)"
      ]
    },
    {
      "cell_type": "code",
      "execution_count": 20,
      "metadata": {
        "pycharm": {}
      },
      "outputs": [
        {
          "name": "stdout",
          "output_type": "stream",
          "text": [
            "Истец обратился в Арбитражный суд Волгоградской области к  ответчику  с исковым заявлением,   в котором просит   взыскать задолженность    в сумме SUM, проценты за пользование коммерческим кредитом в сумме SUM, расходы по оплате госпошлины в сумме SUM\n",
            "\n",
            "Истец просил удовлетворить исковые требования в полном объеме.\n",
            "\n",
            "Ответчик   в судебное заседание не явился, извещен надлежащим образом,  письменного отзыва не представил.\n",
            "\n",
            "В силу ст.156 АПК РФ дело рассмотрено в отсутствие ответчика, извещенного надлежащим образом о месте и времени судебного заседания.\n",
            "\n",
            "Суд, изучив материалы дела,   выслушав истца, оценив фактические обстоятельства, находит заявленные исковые требования обоснованными и подлежащими удовлетворению       по следующим основаниям.\n",
            "\n",
            "Из материалов дела следует,  что 16 марта 2015 года между ORG с одной стороны и ИП Главой К(Ф)Х Кажгалиевым С.В. с другой стороны был заключен договор продажи № Н15СЗР-042, согласно условиям которого ORG обязуется предать в собственность ИП Главы К(Ф)Х Кажгалиева С.В. товар (средства защиты растений), а последний обязуется его принять и оплатить.\n",
            "\n",
            "Во исполнение принятых на себя обязательств по договору ORG передало ответчику товар - средства защиты растений, общей стоимостью SUM, что подтверждается товарными накладными № 416 от DATE года, № 610 от DATE года, № 700 от DATE года, № 722 от DATE года подписанных ответчиком без замечаний и возражений, претензий по качеству товара не поступало.\n",
            "\n",
            "16 марта 2015 года между ORG с одной стороны и ИП Главой К(Ф)Х Кажгалиевым С.В. с другой стороны был заключен договор продажи № П15СПК-111, согласно условиям которого ORG обязуется предать в собственность ИИ Главы К(Ф)Х Кажгалиева С.В. товар (семена сельскохозяйственных культур), а последний обязуется его принять и оплатить.\n",
            "\n",
            "Во исполнение принятых на себя обязательств по договору ORG передало ответчику товар - семена сельскохозяйственных культур, общей стоимостью 1 036 ООО руб., что подтверждается товарной накладной № 151 от DATE года, подписанной ответчиком без замечаний и возражений, претензий по качеству товара не поступало.\n",
            "\n",
            "19 апреля 2016 года между ORG с одной стороны и ИП Главой К(Ф)Х Кажгалиевым С.В. с другой стороны был заключен договор продажи № П16СПК-074, согласно условиям которого ORG обязуется предать в собственность ИИ Главы К(Ф)Х Кажгалиева С.В. товар (семена сельскохозяйственных культур), а последний обязуется его принять и оплатить.\n",
            "\n",
            "Во исполнение принятых на себя обязательств по договору ORG передало ответчику товар - семена сельскохозяйственных культур, общей стоимостью SUM, что подтверждается товарными накладными № 411 от DATE года, № 506 от DATE года, № 752 от DATE года, № 765 от DATE года, № 1135 от DATE года, № 1171 от DATE года, подписанных ответчиком без замечаний и возражений, претензий по качеству товара не поступало.\n",
            "\n",
            "В соответствии со ст. 486, 516 ГК РФ покупатель обязан оплатить товар непосредственно до или после передачи ему продавцом товара, с соблюдением порядка и расчетов, предусмотренных договором.\n",
            "\n",
            "Пунктом 4.2 договоров установлено, что сроки поставки и оплаты оговариваются в спецификации, являющейся неотъемлемой частью настоящих договоров.\n",
            "\n",
            "Согласно спецификации №№1-4 к договору продажи № П15СЗР-042 от DATE года последняя оплата поставленного товара (срок оплаты последней спецификации) осуществляется в срок не позднее DATE года.\n",
            "\n",
            "Согласно спецификации №1 к договору продажи № П15СПК-111 от DATE года последняя оплата поставленного товара (срок оплаты последней спецификации) осуществляется в срок не позднее DATE года.\n",
            "\n",
            "Согласно спецификации №№1-3 к договору продажи № П16СПК-074 от DATE года последняя оплата поставленного товара (срок оплаты последней спецификации) осуществляется в срок не позднее DATE года.\n",
            "\n",
            "В счет оплаты поставляемого по договорам товара Ответчиком в пользу истца DATE года были перечислены денежные средства в сумме SUM, что подтверждается актом сверки взаимных расчетов за период с DATE года по DATE года.\n",
            "\n",
            "Таким образом до настоящего времени ИП Глава К(Ф)Х Кажгалиев С.В. не исполнил обязательства по оплате поставленной продукции на сумму SUM по договору продажи № П16СПК-074 от DATE года, а оплата поставленного товара по договорам №П15СЗР-042 от DATE года и № П15СПК-111 от DATE года произведена с нарушением установленных в них сроков.\n",
            "\n",
            "В связи с ненадлежащим исполнением ответчиком обязательств, предусмотренных договорами, истец обратился в суд с настоящими исковыми требованиями. \n",
            "\n",
            " В соответствии со ст.ст. 309, 310 ГК РФ обязательства должны исполняться надлежащим образом в соответствии с условиями обязательства и требованиями закона и односторонний отказ от их исполнения не допускается за исключением случаев, предусмотренных законом.  \n",
            "\n",
            "В соответствии со ст. 506 ГК РФ по договору поставки поставщик-продавец, осуществляющий предпринимательскую деятельность, обязуется передать в обусловленный срок или сроки производимые, или закупаемые им товары покупателю для использования в предпринимательской деятельности или в иных целях, не связанных с личным, семейным, домашним и иным подобным использованием.\n",
            "\n",
            " В соответствии с п.2 ст. 516 ГК РФ если договором поставки предусмотрено, что оплата товаров осуществляется получателем (плательщиком) и последний неосновательно отказался от оплаты либо не оплатил товары в установленный договором срок, поставщик вправе потребовать оплаты поставленных товаров от покупателя.\n",
            "\n",
            "Как установлено п. 1 ст. 486 ГК РФ покупатель обязан оплатить товар непосредственно до или после передачи ему продавцом товара, если иное не предусмотрено ГК РФ, другим законом, иными правовыми актами или договором купли- продажи и не вытекает из существа обязательства.\n",
            "\n",
            " Согласно п. 5.6 договоров продажи № П15СЗР-042 от DATE года, П15СПК- 111 от DATE года и 1116CIIK-074 от DATE года в случае нарушения Покупателем сроков оплаты, последний обязан выплатить Продавцу проценты за пользование коммерческим кредитом в размере 36% годовых от суммы товарного коммерческого кредита за период с момента получения товара и до полного исполнения всех обязательств по оплате товара.\n",
            "\n",
            "Проценты за пользование коммерческим кредитом по договору продажи № П15СЗР-042 от DATE года начислены Истцом за период с DATE года до DATE    года (включительно) и составляют согласно расчету SUM, по договору продажи № П15СПК-111 от DATE года за период с DATE года до DATE        года (включительно) и  составляют согласно расчету SUM \n",
            "\n",
            "Проценты за пользование коммерческим кредитом по договору продажи № П16СПК- 074 от DATE года начислены Истцом за период с DATE года до DATE года (включительно) и составляют согласно расчету SUM\n",
            "\n",
            "Расчет произведен верно, судом проверен.\n",
            "\n",
            "При таких обстоятельствах заявленные истцом требования являются обоснованными и подлежат удовлетворению.\n",
            "\n",
            "В соответствии со статьей 71 АПК Российской Федерации арбитражный суд оценивает доказательства по своему внутреннему убеждению, основанному на всестороннем, полном, объективном и непосредственном исследовании имеющихся в деле доказательств.\n",
            "\n",
            "В силу статьи 110 АПК Российской Федерации  расходы по госпошлине  относятся на ответчика.\n",
            "\n",
            "На основании изложенного, руководствуясь ст.ст. 110, 167-170 АПК РФ, суд\n",
            "\n",
            "1506\n",
            "\n",
            "индивидуальный предприниматель Бубнов Александр Ювенальевич (далее – истец, предприниматель Бубнов А.Ю.) обратился в Арбитражный суд Ивановской области с исковым заявлением о взыскании с ORG (далее – ответчик, ORG) SUM задолженности по оплате товара, поставленного в рамках исполнения условий договора поставки сырья для текстильной промышленности № 1 от DATE года, а также SUM штрафа за просрочку исполнения договорного обязательства.\n",
            "\n",
            "Правовым обоснованием иска истец указал положения статей 307-310, 330, 486 ГК Российской Федерации.\n",
            "\n",
            "Определением суда от DATE года исковое заявление принято к производству, в рамках подготовки дела к судебному разбирательству было назначено и проведено DATE года предварительное судебное заседание.\n",
            "\n",
            "Определением от DATE года дело назначено к судебному разбирательству на DATE года.\n",
            "\n",
            "При рассмотрении дела истец в порядке статьи 49 АПК Российской Федерации истец изменил размер предъявленных к взысканию требований, просил взыскать с ответчика:\n",
            "\n",
            "-          задолженность за поставленный товар в размере SUM;\n",
            "\n",
            "-          штраф за просрочку исполнения обязательства в сумме SUM за период с DATE года по DATE года;\n",
            "\n",
            "-          судебные издержки по настоящему делу.\n",
            "\n",
            "При рассмотрении спора по существу истец в лице своего представителя данные требования поддержал в полном объеме по основаниям и доводам, изложенным в исковом заявлении.\n",
            "\n",
            "Ответчик явку своего представителя в суд не обеспечил, о дате, времени и месте рассмотрения дела извещен надлежащим образом, отзыв на иск не представил. \n",
            "\n",
            "На основании пункта 3 статьи 156 АПК Российской Федерации дело рассмотрено в отсутствие ответчика. \n",
            "\n",
            "Заслушав объяснения истца, исследовав представленные в дело письменные доказательства, суд приходит к следующим выводам.\n",
            "\n",
            "При рассмотрении дела установлено, что DATE года между предпринимателем Бубновым А.Ю. (поставщиком) и ORG (покупателем) заключен договор поставок сырья для текстильной промышленности № 1, в соответствии с условиями которого (пункт 1.1 договора) поставщик обязался поставлять партиями, а покупатель принимать и оплачивать сырье для текстильной промышленности в период действия договора в соответствии с условиями, изложенными в договоре. \n",
            "\n",
            "Ассортимент товара, его количество, цена, сроки поставки и условия оплаты согласовывались сторонами на каждую партию товара отдельно и отражались в счетах, выставляемых поставщиком на основании заявок покупателя (пункт 1.2 договора).\n",
            "\n",
            "Договор подписан представителями сторон, вступил в действие с момента подписания и действует до DATE года, а в отношении расчетов сторон – до полного расчета между ними.\n",
            "\n",
            "Согласно пункту 2.2 договора оплата каждой поставляемой партии товара должна производиться не позднее срока, установленного в счете.\n",
            "\n",
            "Из дела следует, что истец в период с DATE года по DATE года передал ORG товар на общую сумму SUM, что подтверждается следующими товарными накладными, представленными в дело:\n",
            "\n",
            "-          № 277 от DATE года на сумму SUM;\n",
            "\n",
            "-          № 304 от DATE года на сумму SUM;\n",
            "\n",
            "-          № 325 от DATE года на сумму SUM;\n",
            "\n",
            "-          № 410 от DATE года на сумму SUM. \n",
            "\n",
            "Данный товар ответчиком принят без возражений, что следует из товарно-транспортных накладных № 308 от DATE года, № 344 от DATE года, № 359 от DATE года, № 477 от DATE года, содержащие в себе подписи ответственного лица ответчика, получившего товар.\n",
            "\n",
            "При этом, выставленные к оплате счета содержали в себе условия о предоставлении покупателю отсрочки по внесению платы за товар на тридцать календарных дней от даты отгрузки.\n",
            "\n",
            "Из содержания платежных документов следует, что встречное обязательство по оплате принятого товара ответчиком исполнено частично в сумме SUM, что послужило основанием для образования задолженности ORG перед истцом в сумме SUM.\n",
            "\n",
            "Наличие долга на стороне ответчика в данном размере подтверждено подписанными сторонами актами сверок взаимных расчетов за период с DATE года по DATE года и за период с DATE года по DATE года.\n",
            "\n",
            "В претензии от DATE года № 78 истец потребовал от ответчика в срок до DATE года погасить долг в указанном размере, а также уплатить предусмотренный договором штраф за просрочку исполнения обязательства.\n",
            "\n",
            "Принимая во внимание, что данные претензионные требования ответчиком оставлены без ответа, предприниматель Бубнов А.Ю. обратился в Арбитражный суд Ивановской области с рассматриваемым иском. \n",
            "\n",
            "Исследовав представленные в дело доказательства в их совокупности по правилам статей 64-65, 71 АПК Российской Федерации, суд находит исковые требования обоснованными и подлежащими удовлетворению по следующим основаниям. \n",
            "\n",
            "В соответствии со статьей 506 ГК Российской Федерации, по договору поставки поставщик – продавец, осуществляющий предпринимательскую деятельность, обязуется передать в обусловленный срок производимые или закупаемые им товары покупателю для использования в предпринимательской деятельности или иных целях.\n",
            "\n",
            "Покупатель оплачивает поставляемые товары с соблюдением порядка и формы расчетов, предусмотренных договором поставки (статья 516 ГК Российской Федерации).             \n",
            "\n",
            "Согласно пункту 1 статьи 486 ГК Российской Федерации, покупатель обязан оплатить товар непосредственно до или после передачи ему продавцом товара, если иное не предусмотрено настоящим Кодексом, другим законом, иными правовыми актами или договором купли-продажи и не вытекает из существа обязательства.\n",
            "\n",
            "Если договором купли-продажи не предусмотрена рассрочка оплаты товара, покупатель обязан уплатить продавцу цену переданного товара полностью (пункт 2 статьи 486 ГК Российской Федерации).\n",
            "\n",
            "Из дела следует, что в рассматриваемом споре поставщик произвел поставку товара, который был принят покупателем без возражений и замечаний.     \n",
            "\n",
            "Приняв данный товар, ответчик фактически обязался произвести истцу оплату поименованного в нем товара на предложенных условиях, что фактически им исполнено не было.\n",
            "\n",
            "В соответствии со статьями 309-310 ГК Российской Федерации, обязательства должны исполняться надлежащим образом в соответствии с их условиями и требованиями закона, односторонний отказ от исполнения обязательства не допускается.\n",
            "\n",
            "При этом, в пункте 1 статьи 523 данного Кодекса установлено, что односторонний отказ от исполнения договора поставки (полностью или частично) или одностороннее его изменение допускается в случае существенного нарушения договора одной из сторон.\n",
            "\n",
            "Очевидно, что истцом свои обязательства по поставке товара, исполнены должным образом.\n",
            "\n",
            "Исходя из этого, с учетом произведенной частичной оплаты товара, суд находит требование истца о взыскании с ответчика SUM задолженности подлежащим удовлетворению, поскольку, факт ненадлежащего исполнения ответчиком своих обязательств по оплате товара и, соответственно, нарушения требований статей 454, 486 ГК Российской Федерации, при рассмотрении дела нашел свое подтверждение. \n",
            "\n",
            "В соответствии со статьей 65 АПК Российской Федерации, каждое лицо, участвующее в деле, должно доказать те обстоятельства, на которые оно ссылается как на основание своих требований и возражений. \n",
            "\n",
            "Ответчик, вопреки данной норме, отзыв на иск не представил, доказательств истребуемой задолженности не привел, доводы иска не опроверг. \n",
            "\n",
            "Исходя из этого, руководствуясь положениями пункта 2 статьи 9 АПК Российской Федерации, суд возлагает на него негативные последствия несовершения отдельных процессуальных действий, связанных с непредставлением возражений и доказательств по существу спора.  \n",
            "\n",
            "В связи с ненадлежащим исполнением ответчиком обязательства по оплате приобретенного товара, истцом заявлено требование о взыскании с него штрафа в размере SUM, начисленного за период с DATE года по DATE года.\n",
            "\n",
            "Разрешая требования иска в этой части, суд руководствуется следующими обстоятельствами.\n",
            "\n",
            "В соответствии со статьями 330-331 ГК Российской Федерации, неустойкой (штрафом, пеней) признается определенная законом или договором денежная сумма, которую должник обязан уплатить кредитору в случае неисполнения или ненадлежащего исполнения обязательства, в частности в случае просрочки исполнения.\n",
            "\n",
            "Соглашение о неустойке (штрафе) должно быть совершено в письменной форме независимо от формы основного обязательства.\n",
            "\n",
            "В пункте 2.3 договора стороны определили, что в случае задержки оплаты поставленной партии товара относительно срока, установленного в счете, покупатель обязуется оплатить штраф из расчета 0,1 процента от стоимости неоплаченного товара за каждый календарный день просрочки, начиная от даты последнего по сроку платежа.\n",
            "\n",
            "Таким образом, принимая во внимание, что соглашение о начислении неустойки (штрафа) стороны достигли в надлежащей форме, а само по себе это соглашение закону не противоречит, суд находит требование истца о применении к ответчику данного вида гражданско-правовой ответственности за нарушение договорных обязательств, обоснованным.\n",
            "\n",
            "Проверив представленный истцом расчет пени, суд считает данное требование подлежащим частичному удовлетворению в сумме – SUM за период с DATE года по DATE года. \n",
            "\n",
            "При этом, суд отмечает, что истцом не учтены положения статьи 193 ГК Российской Федерации при определении начальных дат периодов допущенной ответчиком просрочки исполнения обязательства по оплате поставленного по товарным накладным № 304 от DATE года, № 325 от DATE года, № 410 от DATE года товара.\n",
            "\n",
            "Расходы по государственной пошлине судом распределяются по правилам пункта 1 статьи 110 ГК Российской Федерации.\n",
            "\n",
            "Руководствуясь статьями 110, 167-170, 176 АПК Российской Федерации, арбитражный суд\n"
          ]
        }
      ],
      "source": [
        "idx \u003d 1657\n",
        "print(data_samples[idx])\n",
        "doc \u003d corpus_tfidf[idx]\n",
        "vec_lsi \u003d lsi[doc] # convert the vector to LSI space\n",
        "sims \u003d index[vec_lsi] # perform a similarity vector against the corpus\n",
        "most_similar \u003d np.argsort(-sims)[1:]\n",
        "print()\n",
        "print(most_similar[0])\n",
        "print()\n",
        "print(data_samples[most_similar[0]])"
      ]
    },
    {
      "cell_type": "code",
      "execution_count": 18,
      "metadata": {
        "pycharm": {}
      },
      "outputs": [
        {
          "name": "stdout",
          "output_type": "stream",
          "text": [
            "[(\u0027год\u0027, 0.5890941889632927), (\u0027товар\u0027, 0.3720594877662901), (\u00272015\u0027, 0.3100495731385751), (\u00272016\u0027, 0.2480396585108601), (\u0027продаж\u0027, 0.18602974388314505), (\u002704\u0027, 0.1705272652262163), (\u0027последн\u0027, 0.1705272652262163), (\u002716\u0027, 0.15502478656928756), (\u002719\u0027, 0.10851735059850129), (\u0027спецификац\u0027, 0.10851735059850129), (\u0027глав\u0027, 0.10851735059850129), (\u0027обяз\u0027, 0.10851735059850129), (\u002723\u0027, 0.09301487194157253), (\u0027поставлен\u0027, 0.09301487194157253), (\u002706\u0027, 0.07751239328464378), (\u0027коммерческ\u0027, 0.07751239328464378), (\u0027осуществля\u0027, 0.07751239328464378), (\u0027покупател\u0027, 0.07751239328464378), (\u0027111\u0027, 0.07751239328464378), (\u0027ип\u0027, 0.07751239328464378), (\u0027кредит\u0027, 0.07751239328464378), (\u0027042\u0027, 0.07751239328464378), (\u0027074\u0027, 0.07751239328464378), (\u0027пользован\u0027, 0.062009914627715025), (\u0027товарн\u0027, 0.062009914627715025), (\u002705\u0027, 0.062009914627715025), (\u0027процент\u0027, 0.062009914627715025), (\u0027переда\u0027, 0.062009914627715025), (\u0027сельскохозяйствен\u0027, 0.062009914627715025), (\u0027сем\u0027, 0.062009914627715025), (\u0027культур\u0027, 0.062009914627715025), (\u002702\u0027, 0.046507435970786264), (\u0027без\u0027, 0.046507435970786264), (\u0027во\u0027, 0.046507435970786264), (\u0027качеств\u0027, 0.046507435970786264), (\u0027одн\u0027, 0.046507435970786264), (\u0027подписа\u0027, 0.046507435970786264), (\u0027поставк\u0027, 0.046507435970786264), (\u0027претенз\u0027, 0.046507435970786264), (\u0027приня\u0027, 0.046507435970786264), (\u0027продавц\u0027, 0.046507435970786264), (\u0027средств\u0027, 0.046507435970786264), (\u0027поздн\u0027, 0.046507435970786264), (\u0027стоимост\u0027, 0.046507435970786264), (\u0027непосредствен\u0027, 0.046507435970786264), (\u0027составля\u0027, 0.046507435970786264), (\u0027накладн\u0027, 0.046507435970786264), (\u0027себ\u0027, 0.046507435970786264), (\u0027поступа\u0027, 0.046507435970786264), (\u0027замечан\u0027, 0.046507435970786264)]\n",
            "\n",
            "[(\u0027год\u0027, 0.5517088268078975), (\u00272015\u0027, 0.4243914052368442), (\u00272016\u0027, 0.26878122331666804), (\u0027товар\u0027, 0.26878122331666804), (\u0027поставк\u0027, 0.1697565620947377), (\u0027процент\u0027, 0.1697565620947377), (\u002708\u0027, 0.12731742157105327), (\u0027накладн\u0027, 0.12731742157105327), (\u002722\u0027, 0.12731742157105327), (\u002702\u0027, 0.1131710413964918), (\u002704\u0027, 0.1131710413964918), (\u0027покупател\u0027, 0.1131710413964918), (\u0027средств\u0027, 0.1131710413964918), (\u0027пользован\u0027, 0.09902466122193032), (\u0027товарн\u0027, 0.09902466122193032), (\u0027чуж\u0027, 0.09902466122193032), (\u002709\u0027, 0.08487828104736884), (\u002721\u0027, 0.08487828104736884), (\u002724\u0027, 0.08487828104736884), (\u002713\u0027, 0.07073190087280737), (\u0027применен\u0027, 0.07073190087280737), (\u0027факт\u0027, 0.07073190087280737), (\u002705\u0027, 0.07073190087280737), (\u002720\u0027, 0.07073190087280737), (\u0027составля\u0027, 0.07073190087280737), (\u00272001\u0027, 0.07073190087280737), (\u002706\u0027, 0.0565855206982459), (\u002716\u0027, 0.0565855206982459), (\u002718\u0027, 0.0565855206982459), (\u0027333\u0027, 0.0565855206982459), (\u0027поставщик\u0027, 0.0565855206982459), (\u0027чем\u0027, 0.0565855206982459), (\u0027снижен\u0027, 0.0565855206982459), (\u0027395\u0027, 0.0565855206982459), (\u0027ко\u0027, 0.0565855206982459), (\u002715\u0027, 0.04243914052368442), (\u0027некотор\u0027, 0.04243914052368442), (\u0027пленум\u0027, 0.04243914052368442), (\u0027правил\u0027, 0.04243914052368442), (\u0027претенз\u0027, 0.04243914052368442), (\u0027ссыла\u0027, 0.04243914052368442), (\u0027частичн\u0027, 0.04243914052368442), (\u0027408\u0027, 0.04243914052368442), (\u00271301\u0027, 0.04243914052368442), (\u0027508\u0027, 0.04243914052368442), (\u00271112\u0027, 0.04243914052368442), (\u0027912\u0027, 0.04243914052368442), (\u0027812\u0027, 0.04243914052368442), (\u00271212\u0027, 0.04243914052368442), (\u00271812\u0027, 0.04243914052368442)]\n"
          ]
        }
      ],
      "source": [
        "tf \u003d sorted(corpus_tfidf[idx], key\u003dlambda x:x[1], reverse\u003dTrue)[:50]\n",
        "print(list(map(lambda t: (dictionary[t[0]], t[1]), tf)))\n",
        "\n",
        "print()\n",
        "\n",
        "tf_m \u003d sorted(corpus_tfidf[most_similar[0]], key\u003dlambda x:x[1], reverse\u003dTrue)[:50]\n",
        "print(list(map(lambda t: (dictionary[t[0]], t[1]), tf_m)))"
      ]
    },
    {
      "cell_type": "code",
      "execution_count": 25,
      "metadata": {
        "pycharm": {}
      },
      "outputs": [
        {
          "data": {
            "image/png": "[encoded data removed]",
            "text/plain": [
              "\u003cFigure size 720x360 with 1 Axes\u003e"
            ]
          },
          "metadata": {
            "needs_background": "light"
          },
          "output_type": "display_data"
        }
      ],
      "source": [
        "plt.figure(figsize\u003d(10,5))\n",
        "plt.hist(sims, bins\u003dnp.arange(0.0, 1.0, 0.05), log\u003dTrue)\n",
        "plt.xlabel(\u0027Similarity values\u0027, fontsize\u003d12)\n",
        "plt.grid(True, \u0027both\u0027)\n",
        "plt.show()"
      ]
    },
    {
      "cell_type": "code",
      "execution_count": null,
      "metadata": {
        "pycharm": {}
      },
      "outputs": [],
      "source": []
    }
  ],
  "metadata": {
    "kernelspec": {
      "display_name": "Python 3",
      "language": "python",
      "name": "python3"
    },
    "language_info": {
      "codemirror_mode": {
        "name": "ipython",
        "version": 3
      },
      "file_extension": ".py",
      "mimetype": "text/x-python",
      "name": "python",
      "nbconvert_exporter": "python",
      "pygments_lexer": "ipython3",
      "version": "3.6.7"
    }
  },
  "nbformat": 4,
  "nbformat_minor": 1
}