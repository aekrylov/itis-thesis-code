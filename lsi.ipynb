{
 "cells": [
  {
   "cell_type": "code",
   "execution_count": 1,
   "metadata": {},
   "outputs": [],
   "source": [
    "%matplotlib inline"
   ]
  },
  {
   "cell_type": "markdown",
   "metadata": {},
   "source": [
    "\n",
    "# Topic extraction with Non-negative Matrix Factorization and Latent Dirichlet Allocation\n",
    "\n",
    "\n",
    "This is an example of applying :class:`sklearn.decomposition.NMF` and\n",
    ":class:`sklearn.decomposition.LatentDirichletAllocation` on a corpus\n",
    "of documents and extract additive models of the topic structure of the\n",
    "corpus.  The output is a list of topics, each represented as a list of\n",
    "terms (weights are not shown).\n",
    "\n",
    "Non-negative Matrix Factorization is applied with two different objective\n",
    "functions: the Frobenius norm, and the generalized Kullback-Leibler divergence.\n",
    "The latter is equivalent to Probabilistic Latent Semantic Indexing.\n",
    "\n",
    "The default parameters (n_samples / n_features / n_components) should make\n",
    "the example runnable in a couple of tens of seconds. You can try to\n",
    "increase the dimensions of the problem, but be aware that the time\n",
    "complexity is polynomial in NMF. In LDA, the time complexity is\n",
    "proportional to (n_samples * iterations).\n",
    "\n",
    "\n"
   ]
  },
  {
   "cell_type": "code",
   "execution_count": 2,
   "metadata": {},
   "outputs": [
    {
     "name": "stdout",
     "output_type": "stream",
     "text": [
      "Loading dataset...\n",
      "loaded 20000 samples in 299.287s.\n"
     ]
    }
   ],
   "source": [
    "# Author: Olivier Grisel <olivier.grisel@ensta.org>\n",
    "#         Lars Buitinck\n",
    "#         Chyi-Kwei Yau <chyikwei.yau@gmail.com>\n",
    "# License: BSD 3 clause\n",
    "\n",
    "from __future__ import print_function\n",
    "\n",
    "import itertools\n",
    "from pathlib import Path\n",
    "from time import time\n",
    "import os\n",
    "\n",
    "from text_processing.simple import parse_all\n",
    "\n",
    "n_samples = 20000\n",
    "n_topics = 400\n",
    "\n",
    "\n",
    "print(\"Loading dataset...\")\n",
    "t0 = time()\n",
    "data_samples = list(itertools.islice(parse_all(\"./out/docs_simple2\"), n_samples))\n",
    "print(\"loaded %d samples in %0.3fs.\" % (len(data_samples), time() - t0))"
   ]
  },
  {
   "cell_type": "code",
   "execution_count": 3,
   "metadata": {},
   "outputs": [],
   "source": [
    "from collections import defaultdict\n",
    "\n",
    "from nltk.stem.snowball import SnowballStemmer\n",
    "\n",
    "import numpy as np\n",
    "\n",
    "\n",
    "class key_dependent_dict(defaultdict):\n",
    "    def __init__(self, f_of_x):\n",
    "        super().__init__(None) # base class doesn't get a factory\n",
    "        self.f_of_x = f_of_x # save f(x)\n",
    "    def __missing__(self, key): # called when a default needed\n",
    "        ret = self.f_of_x(key) # calculate default value\n",
    "        self[key] = ret # and install it in the dict\n",
    "        return ret\n",
    "\n",
    "\n",
    "STOP_WORDS = {'от', 'на', 'не', 'рф', 'ст'}\n",
    "\n",
    "stemmer = SnowballStemmer(\"russian\")\n",
    "CACHE = key_dependent_dict(lambda w: stemmer.stem(w))"
   ]
  },
  {
   "cell_type": "code",
   "execution_count": 4,
   "metadata": {},
   "outputs": [
    {
     "name": "stdout",
     "output_type": "stream",
     "text": [
      "12665\n"
     ]
    }
   ],
   "source": [
    "from gensim import corpora, models, similarities\n",
    "from sklearn.feature_extraction.text import TfidfVectorizer\n",
    "\n",
    "analyzer = TfidfVectorizer().build_analyzer()\n",
    "texts = [[CACHE[w] for w in analyzer(doc) if w not in STOP_WORDS] for doc in data_samples]\n",
    "dictionary = corpora.Dictionary(texts)\n",
    "\n",
    "dictionary.filter_extremes(no_below=10, no_above=0.66)\n",
    "print(len(dictionary))"
   ]
  },
  {
   "cell_type": "code",
   "execution_count": 5,
   "metadata": {},
   "outputs": [],
   "source": [
    "corpus = [dictionary.doc2bow(text) for text in texts]\n",
    "tfidf = models.TfidfModel(corpus, smartirs='nnc')\n",
    "corpus_tfidf = tfidf[corpus]"
   ]
  },
  {
   "cell_type": "code",
   "execution_count": 21,
   "metadata": {},
   "outputs": [
    {
     "name": "stdout",
     "output_type": "stream",
     "text": [
      "LSIindex built in 175.072s\n"
     ]
    }
   ],
   "source": [
    "t0 = time()\n",
    "lsi = models.LsiModel(corpus_tfidf, id2word=dictionary, num_topics=n_topics)\n",
    "index = similarities.MatrixSimilarity(lsi[corpus_tfidf]) # transform corpus to LSI space and index it\n",
    "print(\"LSIindex built in %.3fs\" % (time()-t0))"
   ]
  },
  {
   "cell_type": "code",
   "execution_count": 26,
   "metadata": {},
   "outputs": [
    {
     "data": {
      "image/png": "[encoded data removed]",
      "text/plain": [
       "<Figure size 720x360 with 1 Axes>"
      ]
     },
     "metadata": {
      "needs_background": "light"
     },
     "output_type": "display_data"
    }
   ],
   "source": [
    "s = lsi.projection.s\n",
    "\n",
    "import matplotlib.pyplot as plt\n",
    "plt.figure(figsize=(10,5))\n",
    "plt.plot(s[:])\n",
    "plt.plot(np.cumsum(s[:]), c='green')\n",
    "plt.xlabel('Singular values', fontsize=12)\n",
    "plt.grid(True, 'both')\n",
    "plt.show()"
   ]
  },
  {
   "cell_type": "code",
   "execution_count": 28,
   "metadata": {},
   "outputs": [
    {
     "data": {
      "text/plain": [
       "[(0,\n",
       "  '0.259*\"неустойк\" + 0.234*\"услуг\" + 0.182*\"энерг\" + 0.167*\"товар\" + 0.153*\"работ\" + 0.145*\"2016\" + 0.127*\"год\" + 0.121*\"средств\" + 0.119*\"пен\" + 0.103*\"организац\" + 0.102*\"ден\" + 0.100*\"фактическ\" + 0.100*\"поставк\" + 0.100*\"просрочк\" + 0.099*\"заказчик\" + 0.095*\"04\" + 0.094*\"05\" + 0.092*\"06\" + 0.091*\"имуществ\" + 0.089*\"кредитор\" + 0.084*\"02\" + 0.083*\"счет\" + 0.082*\"процент\" + 0.082*\"08\" + 0.082*\"покупател\" + 0.082*\"09\" + 0.081*\"выполнен\" + 0.078*\"обяз\" + 0.076*\"плат\" + 0.076*\"стоимост\"'),\n",
       " (1,\n",
       "  '-0.556*\"энерг\" + 0.310*\"работ\" + -0.202*\"электрическ\" + 0.190*\"товар\" + -0.175*\"потреблен\" + -0.175*\"теплов\" + -0.161*\"организац\" + 0.161*\"выполнен\" + 0.144*\"заказчик\" + -0.142*\"потребител\" + -0.135*\"фактическ\" + -0.132*\"абонент\" + -0.106*\"ден\" + -0.102*\"коммунальн\" + -0.101*\"сет\" + 0.093*\"подрядчик\" + 0.090*\"средств\" + -0.084*\"энергоснабжен\" + -0.084*\"прибор\" + -0.083*\"мощност\" + -0.078*\"месяц\" + 0.077*\"контракт\" + -0.076*\"вод\" + 0.069*\"процент\" + 0.069*\"результат\" + -0.066*\"пен\" + -0.064*\"дом\" + -0.064*\"присоединен\" + 0.064*\"покупател\" + 0.063*\"возмещен\"'),\n",
       " (2,\n",
       "  '-0.587*\"товар\" + 0.354*\"работ\" + -0.275*\"покупател\" + -0.272*\"поставк\" + 0.203*\"услуг\" + 0.181*\"выполнен\" + 0.158*\"заказчик\" + -0.154*\"неустойк\" + -0.152*\"поставщик\" + 0.096*\"подрядчик\" + 0.095*\"имуществ\" + 0.095*\"дом\" + -0.089*\"поставлен\" + 0.087*\"помещен\" + -0.077*\"накладн\" + 0.071*\"объект\" + -0.070*\"товарн\" + 0.069*\"плат\" + 0.067*\"результат\" + 0.066*\"многоквартирн\" + -0.057*\"продаж\" + 0.056*\"коммунальн\" + 0.055*\"аренд\" + 0.055*\"ремонт\" + 0.055*\"исполнител\" + -0.054*\"просрочк\" + 0.053*\"земельн\" + -0.052*\"переда\" + 0.052*\"собственник\" + -0.052*\"купл\"'),\n",
       " (3,\n",
       "  '-0.432*\"работ\" + 0.287*\"плат\" + 0.267*\"аренд\" + 0.246*\"арендн\" + 0.225*\"имуществ\" + -0.224*\"заказчик\" + -0.222*\"выполнен\" + 0.211*\"земельн\" + 0.163*\"участк\" + 0.159*\"арендатор\" + -0.152*\"контракт\" + -0.147*\"энерг\" + -0.134*\"подрядчик\" + 0.121*\"помещен\" + 0.113*\"пользован\" + 0.099*\"арендодател\" + -0.095*\"товар\" + 0.093*\"собствен\" + 0.076*\"страхов\" + -0.075*\"услуг\" + 0.069*\"внесен\" + 0.068*\"площад\" + 0.064*\"дом\" + -0.063*\"поставк\" + 0.063*\"кв\" + 0.061*\"год\" + -0.059*\"обяз\" + 0.057*\"средств\" + -0.057*\"подряд\" + -0.057*\"электрическ\"'),\n",
       " (4,\n",
       "  '0.441*\"услуг\" + 0.290*\"страхов\" + -0.269*\"работ\" + 0.241*\"возмещен\" + -0.186*\"арендн\" + -0.184*\"аренд\" + -0.183*\"плат\" + 0.175*\"транспортн\" + -0.161*\"земельн\" + 0.158*\"выплат\" + 0.155*\"средств\" + -0.132*\"выполнен\" + -0.127*\"участк\" + 0.127*\"потерпевш\" + 0.121*\"страховщик\" + -0.109*\"арендатор\" + 0.105*\"вред\" + 0.105*\"страхован\" + 0.101*\"оказа\" + -0.098*\"контракт\" + 0.097*\"оказан\" + -0.091*\"подрядчик\" + -0.090*\"энерг\" + -0.087*\"пен\" + 0.086*\"причинен\" + 0.079*\"ответствен\" + 0.078*\"экспертиз\" + 0.073*\"поврежден\" + -0.072*\"объект\" + 0.072*\"убытк\"'),\n",
       " (5,\n",
       "  '-0.560*\"неустойк\" + 0.343*\"услуг\" + 0.240*\"товар\" + -0.189*\"страхов\" + 0.151*\"дом\" + 0.125*\"помещен\" + -0.119*\"333\" + -0.119*\"возмещен\" + -0.117*\"пен\" + -0.115*\"кредитор\" + 0.111*\"поставк\" + 0.110*\"покупател\" + -0.109*\"выплат\" + -0.108*\"просрочк\" + 0.107*\"многоквартирн\" + -0.104*\"ден\" + -0.104*\"ответствен\" + -0.102*\"последств\" + 0.099*\"коммунальн\" + -0.095*\"несоразмерн\" + 0.090*\"оказа\" + 0.086*\"оказан\" + -0.078*\"транспортн\" + -0.078*\"потерпевш\" + 0.076*\"собственник\" + -0.075*\"страховщик\" + -0.074*\"должник\" + 0.070*\"счет\" + -0.070*\"применен\" + 0.067*\"имуществ\"'),\n",
       " (6,\n",
       "  '0.506*\"услуг\" + 0.338*\"неустойк\" + -0.230*\"энерг\" + -0.187*\"страхов\" + 0.170*\"оказа\" + -0.158*\"средств\" + 0.138*\"оказан\" + 0.136*\"плат\" + -0.134*\"возмещен\" + 0.132*\"пен\" + -0.132*\"работ\" + 0.122*\"заказчик\" + 0.115*\"арендн\" + 0.114*\"исполнител\" + -0.111*\"транспортн\" + 0.099*\"просрочк\" + -0.096*\"вред\" + -0.091*\"теплов\" + -0.086*\"экспертиз\" + -0.085*\"потерпевш\" + -0.084*\"имуществ\" + -0.083*\"страховщик\" + -0.083*\"потреблен\" + -0.083*\"страхован\" + 0.081*\"аренд\" + -0.080*\"электрическ\" + -0.078*\"обществ\" + -0.078*\"выплат\" + -0.073*\"убытк\" + -0.072*\"результат\"'),\n",
       " (7,\n",
       "  '0.388*\"дом\" + 0.291*\"помещен\" + 0.278*\"многоквартирн\" + -0.241*\"процент\" + 0.197*\"коммунальн\" + 0.196*\"неустойк\" + 0.194*\"собственник\" + -0.186*\"средств\" + 0.163*\"имуществ\" + 0.162*\"товар\" + 0.148*\"содержан\" + 0.143*\"жил\" + -0.130*\"пользован\" + -0.128*\"энерг\" + 0.117*\"контракт\" + 0.113*\"организац\" + 0.108*\"управлен\" + 0.103*\"ремонт\" + -0.099*\"арендн\" + -0.097*\"электрическ\" + -0.095*\"аренд\" + -0.089*\"чуж\" + -0.085*\"оказа\" + -0.083*\"возврат\" + 0.082*\"жилищн\" + -0.081*\"счет\" + -0.077*\"услуг\" + 0.073*\"управля\" + -0.072*\"2016\" + -0.070*\"оказан\"'),\n",
       " (8,\n",
       "  '0.394*\"процент\" + 0.254*\"средств\" + -0.192*\"земельн\" + -0.168*\"услуг\" + -0.163*\"энерг\" + 0.159*\"пользован\" + -0.158*\"участк\" + -0.153*\"электрическ\" + 0.147*\"дом\" + -0.147*\"контракт\" + -0.146*\"аренд\" + -0.143*\"товар\" + 0.138*\"чуж\" + 0.138*\"2016\" + -0.135*\"арендн\" + -0.130*\"страхов\" + 0.128*\"возврат\" + 0.126*\"организац\" + -0.114*\"возмещен\" + 0.110*\"банк\" + 0.110*\"многоквартирн\" + 0.110*\"займ\" + -0.106*\"плат\" + 0.106*\"помещен\" + 0.104*\"ден\" + 0.104*\"неосновательн\" + 0.093*\"395\" + -0.085*\"заказчик\" + 0.082*\"заемщик\" + 0.081*\"долг\"'),\n",
       " (9,\n",
       "  '0.256*\"плат\" + 0.209*\"арендн\" + -0.204*\"контракт\" + -0.203*\"обществ\" + -0.197*\"земельн\" + 0.171*\"работ\" + -0.168*\"объект\" + -0.164*\"юридическ\" + 0.158*\"помещен\" + 0.158*\"аренд\" + -0.156*\"участк\" + -0.148*\"федеральн\" + -0.147*\"решен\" + 0.144*\"арендатор\" + 0.143*\"страхов\" + -0.120*\"строительств\" + -0.118*\"участник\" + -0.114*\"организац\" + 0.109*\"дом\" + -0.102*\"собствен\" + -0.097*\"регистрац\" + 0.095*\"средств\" + 0.095*\"товар\" + 0.094*\"пользован\" + 0.093*\"возмещен\" + 0.093*\"арендодател\" + -0.090*\"муниципальн\" + 0.089*\"энерг\" + 0.088*\"многоквартирн\" + 0.088*\"коммунальн\"'),\n",
       " (10,\n",
       "  '0.599*\"контракт\" + -0.232*\"электрическ\" + -0.230*\"неустойк\" + 0.202*\"пен\" + 0.151*\"ден\" + 0.130*\"муниципальн\" + 0.119*\"вод\" + -0.119*\"работ\" + 0.114*\"дня\" + 0.113*\"фактическ\" + 0.112*\"теплов\" + 0.111*\"страхов\" + 0.103*\"ставк\" + -0.102*\"энерг\" + -0.096*\"последств\" + 0.095*\"водоснабжен\" + 0.091*\"банк\" + -0.090*\"обществ\" + 0.089*\"просрочк\" + 0.083*\"наступлен\" + 0.082*\"средств\" + -0.077*\"юридическ\" + -0.076*\"покупател\" + 0.074*\"федеральн\" + 0.074*\"водоотведен\" + 0.072*\"рефинансирован\" + 0.071*\"заказчик\" + 0.069*\"горяч\" + -0.068*\"333\" + 0.067*\"центральн\"'),\n",
       " (11,\n",
       "  '0.361*\"электрическ\" + 0.320*\"контракт\" + -0.243*\"организац\" + 0.238*\"процент\" + -0.180*\"вод\" + 0.174*\"средств\" + -0.170*\"теплов\" + 0.123*\"энерг\" + -0.119*\"газ\" + -0.117*\"взнос\" + -0.115*\"водоснабжен\" + -0.113*\"член\" + -0.111*\"юридическ\" + -0.103*\"абонент\" + 0.101*\"земельн\" + 0.100*\"пользован\" + 0.098*\"муниципальн\" + 0.097*\"имуществ\" + -0.095*\"саморегулируем\" + 0.095*\"мощност\" + -0.094*\"водоотведен\" + 0.091*\"дом\" + 0.091*\"электроэнерг\" + -0.088*\"горяч\" + 0.086*\"объект\" + 0.085*\"чуж\" + -0.082*\"членск\" + 0.081*\"передач\" + 0.081*\"собствен\" + -0.080*\"год\"'),\n",
       " (12,\n",
       "  '-0.499*\"2016\" + 0.333*\"земельн\" + 0.254*\"участк\" + -0.231*\"контракт\" + -0.207*\"год\" + 0.203*\"процент\" + -0.161*\"2015\" + -0.148*\"обществ\" + 0.148*\"средств\" + 0.120*\"работ\" + 0.112*\"ден\" + -0.103*\"электрическ\" + 0.100*\"фактическ\" + 0.097*\"собствен\" + 0.094*\"объект\" + 0.090*\"пользован\" + 0.087*\"чуж\" + 0.086*\"услуг\" + -0.085*\"06\" + -0.085*\"помещен\" + -0.079*\"вагон\" + 0.079*\"товар\" + 0.077*\"кадастров\" + -0.072*\"лизинг\" + -0.071*\"груз\" + -0.071*\"09\" + 0.070*\"вод\" + -0.068*\"08\" + -0.068*\"платеж\" + 0.066*\"участок\"'),\n",
       " (13,\n",
       "  '-0.527*\"2016\" + 0.272*\"контракт\" + -0.217*\"земельн\" + 0.175*\"электрическ\" + -0.171*\"участк\" + 0.159*\"организац\" + -0.153*\"теплов\" + 0.144*\"имуществ\" + -0.143*\"2015\" + 0.139*\"взнос\" + 0.133*\"юридическ\" + 0.125*\"член\" + -0.107*\"вод\" + 0.101*\"саморегулируем\" + 0.091*\"членск\" + -0.083*\"09\" + -0.081*\"05\" + 0.080*\"плат\" + -0.079*\"06\" + 0.077*\"времен\" + 0.075*\"обществ\" + 0.075*\"лизинг\" + 0.075*\"арендатор\" + 0.075*\"мест\" + 0.075*\"средств\" + -0.075*\"31\" + -0.074*\"04\" + 0.072*\"некоммерческ\" + 0.068*\"аренд\" + -0.067*\"водоснабжен\"'),\n",
       " (14,\n",
       "  '-0.410*\"теплов\" + 0.284*\"электрическ\" + 0.279*\"ден\" + -0.242*\"контракт\" + 0.206*\"пен\" + 0.175*\"фактическ\" + 0.172*\"дня\" + -0.163*\"энерг\" + 0.158*\"наступлен\" + -0.134*\"неустойк\" + 0.131*\"газ\" + -0.108*\"теплоснабжен\" + -0.105*\"груз\" + 0.101*\"дне\" + -0.100*\"теплоносител\" + -0.095*\"средств\" + 0.094*\"календарн\" + -0.092*\"пользован\" + 0.089*\"ставк\" + 0.087*\"просрочк\" + 0.085*\"банк\" + 0.084*\"рефинансирован\" + 0.084*\"2016\" + -0.080*\"последств\" + -0.080*\"вод\" + -0.079*\"горяч\" + 0.078*\"начин\" + 0.076*\"электроэнерг\" + -0.075*\"333\" + -0.074*\"процент\"'),\n",
       " (15,\n",
       "  '0.340*\"груз\" + 0.326*\"вагон\" + -0.302*\"организац\" + -0.242*\"2016\" + -0.205*\"взнос\" + -0.189*\"член\" + 0.169*\"перевозк\" + -0.163*\"саморегулируем\" + 0.146*\"железнодорожн\" + 0.139*\"газ\" + -0.139*\"членск\" + 0.119*\"перевозчик\" + 0.111*\"пен\" + -0.110*\"некоммерческ\" + -0.110*\"товар\" + 0.100*\"ремонт\" + -0.098*\"страхов\" + -0.094*\"ассоциац\" + -0.093*\"арендн\" + 0.086*\"доставк\" + 0.086*\"ден\" + 0.085*\"накладн\" + 0.084*\"транспортн\" + 0.083*\"фактическ\" + -0.081*\"процент\" + 0.080*\"транспорт\" + 0.079*\"убытк\" + -0.075*\"контракт\" + 0.075*\"станц\" + -0.074*\"союз\"'),\n",
       " (16,\n",
       "  '-0.347*\"груз\" + -0.299*\"вагон\" + -0.256*\"организац\" + 0.208*\"имуществ\" + -0.174*\"2016\" + -0.172*\"перевозк\" + 0.169*\"обществ\" + -0.169*\"земельн\" + 0.147*\"газ\" + -0.147*\"железнодорожн\" + -0.146*\"взнос\" + -0.140*\"участк\" + 0.135*\"лизинг\" + -0.132*\"член\" + -0.130*\"электрическ\" + -0.120*\"перевозчик\" + -0.118*\"саморегулируем\" + 0.110*\"юридическ\" + -0.110*\"транспортн\" + -0.107*\"плат\" + 0.106*\"сделк\" + -0.100*\"процент\" + -0.099*\"накладн\" + -0.097*\"членск\" + -0.085*\"доставк\" + -0.084*\"ремонт\" + -0.083*\"транспорт\" + -0.078*\"некоммерческ\" + 0.076*\"платеж\" + 0.074*\"помещен\"'),\n",
       " (17,\n",
       "  '-0.507*\"газ\" + -0.337*\"год\" + 0.286*\"обществ\" + 0.235*\"юридическ\" + 0.162*\"товар\" + -0.146*\"поставк\" + -0.144*\"имуществ\" + 0.120*\"теплов\" + -0.110*\"взнос\" + -0.109*\"неустойк\" + 0.108*\"ден\" + 0.104*\"пен\" + -0.098*\"объект\" + 0.092*\"плат\" + 0.086*\"участник\" + 0.086*\"арендн\" + 0.085*\"решен\" + -0.083*\"член\" + -0.080*\"месяц\" + -0.078*\"31\" + -0.076*\"покупател\" + 0.076*\"коммунальн\" + -0.075*\"поставщик\" + 0.075*\"фактическ\" + -0.073*\"транспортировк\" + 0.071*\"энерг\" + -0.070*\"членск\" + 0.066*\"дня\" + -0.065*\"собствен\" + 0.065*\"орга\"'),\n",
       " (18,\n",
       "  '0.537*\"год\" + -0.305*\"имуществ\" + -0.273*\"2016\" + 0.271*\"обществ\" + 0.150*\"2015\" + 0.143*\"процент\" + -0.139*\"объект\" + -0.138*\"лизинг\" + 0.137*\"газ\" + 0.120*\"плат\" + 0.113*\"коммунальн\" + 0.105*\"решен\" + -0.099*\"собствен\" + 0.098*\"юридическ\" + 0.097*\"дом\" + -0.089*\"организац\" + 0.085*\"арендн\" + -0.083*\"недвижим\" + 0.077*\"поставк\" + 0.077*\"участник\" + 0.077*\"многоквартирн\" + 0.076*\"2014\" + -0.073*\"взнос\" + 0.071*\"давност\" + -0.069*\"04\" + -0.067*\"член\" + -0.060*\"саморегулируем\" + 0.059*\"участк\" + 0.059*\"земельн\" + -0.058*\"предмет\"'),\n",
       " (19,\n",
       "  '0.466*\"газ\" + -0.432*\"год\" + -0.245*\"лизинг\" + -0.229*\"2015\" + 0.198*\"2016\" + 0.180*\"обществ\" + -0.159*\"товар\" + 0.151*\"поставк\" + -0.109*\"вод\" + 0.107*\"юридическ\" + -0.107*\"платеж\" + -0.106*\"лизингополучател\" + -0.105*\"2014\" + -0.101*\"водоснабжен\" + -0.098*\"имуществ\" + 0.096*\"процент\" + 0.094*\"контракт\" + -0.090*\"предмет\" + -0.090*\"водоотведен\" + 0.083*\"поставщик\" + -0.083*\"лизингодател\" + -0.082*\"объект\" + -0.078*\"передач\" + 0.076*\"дом\" + 0.073*\"плат\" + 0.072*\"участник\" + 0.071*\"помещен\" + -0.066*\"продаж\" + 0.065*\"месяц\" + 0.063*\"решен\"')]"
      ]
     },
     "execution_count": 28,
     "metadata": {},
     "output_type": "execute_result"
    }
   ],
   "source": [
    "lsi.print_topics(20,30)"
   ]
  },
  {
   "cell_type": "code",
   "execution_count": 27,
   "metadata": {},
   "outputs": [
    {
     "name": "stdout",
     "output_type": "stream",
     "text": [
      "Истец обратился в Арбитражный суд Волгоградской области к  ответчику  с исковым заявлением,   в котором просит   взыскать задолженность    в сумме SUM, проценты за пользование коммерческим кредитом в сумме SUM, расходы по оплате госпошлины в сумме SUM\n",
      "Истец просил удовлетворить исковые требования в полном объеме.\n",
      "Ответчик   в судебное заседание не явился, извещен надлежащим образом,  письменного отзыва не представил.\n",
      "В силу ст.156 АПК РФ дело рассмотрено в отсутствие ответчика, извещенного надлежащим образом о месте и времени судебного заседания.\n",
      "Суд, изучив материалы дела,   выслушав истца, оценив фактические обстоятельства, находит заявленные исковые требования обоснованными и подлежащими удовлетворению       по следующим основаниям.\n",
      "Из материалов дела следует,  что 16 марта 2015 года между ORG с одной стороны и ИП Главой К(Ф)Х Кажгалиевым С.В. с другой стороны был заключен договор продажи № Н15СЗР-042, согласно условиям которого ORG обязуется предать в собственность ИП Главы К(Ф)Х Кажгалиева С.В. товар (средства защиты растений), а последний обязуется его принять и оплатить.\n",
      "Во исполнение принятых на себя обязательств по договору ORG передало ответчику товар - средства защиты растений, общей стоимостью SUM, что подтверждается товарными накладными № 416 от 15.04.2015 года, № 610 от 29.04.2015 года, № 700 от 07.05.2015 года, № 722 от 08.05.2015 года подписанных ответчиком без замечаний и возражений, претензий по качеству товара не поступало.\n",
      "16 марта 2015 года между ORG с одной стороны и ИП Главой К(Ф)Х Кажгалиевым С.В. с другой стороны был заключен договор продажи № П15СПК-111, согласно условиям которого ORG обязуется предать в собственность ИИ Главы К(Ф)Х Кажгалиева С.В. товар (семена сельскохозяйственных культур), а последний обязуется его принять и оплатить.\n",
      "Во исполнение принятых на себя обязательств по договору ORG передало ответчику товар - семена сельскохозяйственных культур, общей стоимостью 1 036 ООО руб., что подтверждается товарной накладной № 151 от 31.03.2015 года, подписанной ответчиком без замечаний и возражений, претензий по качеству товара не поступало.\n",
      "19 апреля 2016 года между ORG с одной стороны и ИП Главой К(Ф)Х Кажгалиевым С.В. с другой стороны был заключен договор продажи № П16СПК-074, согласно условиям которого ORG обязуется предать в собственность ИИ Главы К(Ф)Х Кажгалиева С.В. товар (семена сельскохозяйственных культур), а последний обязуется его принять и оплатить.\n",
      "Во исполнение принятых на себя обязательств по договору ORG передало ответчику товар - семена сельскохозяйственных культур, общей стоимостью SUM, что подтверждается товарными накладными № 411 от 19.04.2016 года, № 506 от 25.04.2016 года, № 752 от 23.05.2016 года, № 765 от 23.05.2016 года, № 1135 от 23.06.2016 года, № 1171 от 28.06.2016 года, подписанных ответчиком без замечаний и возражений, претензий по качеству товара не поступало.\n",
      "В соответствии со ст. 486, 516 ГК РФ покупатель обязан оплатить товар непосредственно до или после передачи ему продавцом товара, с соблюдением порядка и расчетов, предусмотренных договором.\n",
      "Пунктом 4.2 договоров установлено, что сроки поставки и оплаты оговариваются в спецификации, являющейся неотъемлемой частью настоящих договоров.\n",
      "Согласно спецификации №№1-4 к договору продажи № П15СЗР-042 от 16.03.2015 года последняя оплата поставленного товара (срок оплаты последней спецификации) осуществляется в срок не позднее 01.10.2015 года.\n",
      "Согласно спецификации №1 к договору продажи № П15СПК-111 от 16.03.2015 года последняя оплата поставленного товара (срок оплаты последней спецификации) осуществляется в срок не позднее 10.04.2015 года.\n",
      "Согласно спецификации №№1-3 к договору продажи № П16СПК-074 от 19.04.2016 года последняя оплата поставленного товара (срок оплаты последней спецификации) осуществляется в срок не позднее 01.10.2016 года.\n",
      "В счет оплаты поставляемого по договорам товара Ответчиком в пользу истца 23.06.2016 года были перечислены денежные средства в сумме SUM, что подтверждается актом сверки взаимных расчетов за период с 01.01.2015 года по 02.02.2018 года.\n",
      "Таким образом до настоящего времени ИП Глава К(Ф)Х Кажгалиев С.В. не исполнил обязательства по оплате поставленной продукции на сумму SUM по договору продажи № П16СПК-074 от 19.04.2016 года, а оплата поставленного товара по договорам №П15СЗР-042 от 16.03.2015 года и № П15СПК-111 от 16.03.2015 года произведена с нарушением установленных в них сроков.\n",
      "В связи с ненадлежащим исполнением ответчиком обязательств, предусмотренных договорами, истец обратился в суд с настоящими исковыми требованиями. \n",
      " В соответствии со ст.ст. 309, 310 ГК РФ обязательства должны исполняться надлежащим образом в соответствии с условиями обязательства и требованиями закона и односторонний отказ от их исполнения не допускается за исключением случаев, предусмотренных законом.  \n",
      "В соответствии со ст. 506 ГК РФ по договору поставки поставщик-продавец, осуществляющий предпринимательскую деятельность, обязуется передать в обусловленный срок или сроки производимые, или закупаемые им товары покупателю для использования в предпринимательской деятельности или в иных целях, не связанных с личным, семейным, домашним и иным подобным использованием.\n",
      " В соответствии с п.2 ст. 516 ГК РФ если договором поставки предусмотрено, что оплата товаров осуществляется получателем (плательщиком) и последний неосновательно отказался от оплаты либо не оплатил товары в установленный договором срок, поставщик вправе потребовать оплаты поставленных товаров от покупателя.\n",
      "Как установлено п. 1 ст. 486 ГК РФ покупатель обязан оплатить товар непосредственно до или после передачи ему продавцом товара, если иное не предусмотрено ГК РФ, другим законом, иными правовыми актами или договором купли- продажи и не вытекает из существа обязательства.\n",
      " Согласно п. 5.6 договоров продажи № П15СЗР-042 от 16.03.2015 года, П15СПК- 111 от 16.03.2015 года и 1116CIIK-074 от 19.04.2016 года в случае нарушения Покупателем сроков оплаты, последний обязан выплатить Продавцу проценты за пользование коммерческим кредитом в размере 36% годовых от суммы товарного коммерческого кредита за период с момента получения товара и до полного исполнения всех обязательств по оплате товара.\n",
      "Проценты за пользование коммерческим кредитом по договору продажи № П15СЗР-042 от 16.03.2015 года начислены Истцом за период с 15.04.2015 года до 23.06.2016    года (включительно) и составляют согласно расчету SUM, по договору продажи № П15СПК-111 от 16.03.2015 года за период с 31.03.2015 года до 23.06.2016        года (включительно) и  составляют согласно расчету SUM \n",
      "Проценты за пользование коммерческим кредитом по договору продажи № П16СПК- 074 от 19.04.2016 года начислены Истцом за период с 19.04.2016 года до 01.02.2018 года (включительно) и составляют согласно расчету SUM\n",
      "Расчет произведен верно, судом проверен.\n",
      "При таких обстоятельствах заявленные истцом требования являются обоснованными и подлежат удовлетворению.\n",
      "В соответствии со статьей 71 АПК Российской Федерации арбитражный суд оценивает доказательства по своему внутреннему убеждению, основанному на всестороннем, полном, объективном и непосредственном исследовании имеющихся в деле доказательств.\n",
      "В силу статьи 110 АПК Российской Федерации  расходы по госпошлине  относятся на ответчика.\n",
      "На основании изложенного, руководствуясь ст.ст. 110, 167-170 АПК РФ, \n"
     ]
    },
    {
     "ename": "IndexError",
     "evalue": "index 800 is out of bounds for axis 0 with size 800",
     "output_type": "error",
     "traceback": [
      "\u001b[0;31m---------------------------------------------------------------------------\u001b[0m",
      "\u001b[0;31mIndexError\u001b[0m                                Traceback (most recent call last)",
      "\u001b[0;32m<ipython-input-27-39ca67a39583>\u001b[0m in \u001b[0;36m<module>\u001b[0;34m\u001b[0m\n\u001b[1;32m      3\u001b[0m \u001b[0mdoc\u001b[0m \u001b[0;34m=\u001b[0m \u001b[0mcorpus_tfidf\u001b[0m\u001b[0;34m[\u001b[0m\u001b[0midx\u001b[0m\u001b[0;34m]\u001b[0m\u001b[0;34m\u001b[0m\u001b[0;34m\u001b[0m\u001b[0m\n\u001b[1;32m      4\u001b[0m \u001b[0mvec_lsi\u001b[0m \u001b[0;34m=\u001b[0m \u001b[0mlsi\u001b[0m\u001b[0;34m[\u001b[0m\u001b[0mdoc\u001b[0m\u001b[0;34m]\u001b[0m \u001b[0;31m# convert the vector to LSI space\u001b[0m\u001b[0;34m\u001b[0m\u001b[0;34m\u001b[0m\u001b[0m\n\u001b[0;32m----> 5\u001b[0;31m \u001b[0msims\u001b[0m \u001b[0;34m=\u001b[0m \u001b[0mindex\u001b[0m\u001b[0;34m[\u001b[0m\u001b[0mvec_lsi\u001b[0m\u001b[0;34m]\u001b[0m \u001b[0;31m# perform a similarity vector against the corpus\u001b[0m\u001b[0;34m\u001b[0m\u001b[0;34m\u001b[0m\u001b[0m\n\u001b[0m\u001b[1;32m      6\u001b[0m \u001b[0mmost_similar\u001b[0m \u001b[0;34m=\u001b[0m \u001b[0mnp\u001b[0m\u001b[0;34m.\u001b[0m\u001b[0margsort\u001b[0m\u001b[0;34m(\u001b[0m\u001b[0;34m-\u001b[0m\u001b[0msims\u001b[0m\u001b[0;34m)\u001b[0m\u001b[0;34m[\u001b[0m\u001b[0;36m1\u001b[0m\u001b[0;34m:\u001b[0m\u001b[0;34m]\u001b[0m\u001b[0;34m\u001b[0m\u001b[0;34m\u001b[0m\u001b[0m\n\u001b[1;32m      7\u001b[0m \u001b[0mprint\u001b[0m\u001b[0;34m(\u001b[0m\u001b[0;34m)\u001b[0m\u001b[0;34m\u001b[0m\u001b[0;34m\u001b[0m\u001b[0m\n",
      "\u001b[0;32m/usr/local/lib/python3.6/dist-packages/gensim/interfaces.py\u001b[0m in \u001b[0;36m__getitem__\u001b[0;34m(self, query)\u001b[0m\n\u001b[1;32m    338\u001b[0m                 \u001b[0;32melse\u001b[0m\u001b[0;34m:\u001b[0m\u001b[0;34m\u001b[0m\u001b[0;34m\u001b[0m\u001b[0m\n\u001b[1;32m    339\u001b[0m                     \u001b[0mquery\u001b[0m \u001b[0;34m=\u001b[0m \u001b[0mmatutils\u001b[0m\u001b[0;34m.\u001b[0m\u001b[0munitvec\u001b[0m\u001b[0;34m(\u001b[0m\u001b[0mquery\u001b[0m\u001b[0;34m)\u001b[0m\u001b[0;34m\u001b[0m\u001b[0;34m\u001b[0m\u001b[0m\n\u001b[0;32m--> 340\u001b[0;31m         \u001b[0mresult\u001b[0m \u001b[0;34m=\u001b[0m \u001b[0mself\u001b[0m\u001b[0;34m.\u001b[0m\u001b[0mget_similarities\u001b[0m\u001b[0;34m(\u001b[0m\u001b[0mquery\u001b[0m\u001b[0;34m)\u001b[0m\u001b[0;34m\u001b[0m\u001b[0;34m\u001b[0m\u001b[0m\n\u001b[0m\u001b[1;32m    341\u001b[0m \u001b[0;34m\u001b[0m\u001b[0m\n\u001b[1;32m    342\u001b[0m         \u001b[0;32mif\u001b[0m \u001b[0mself\u001b[0m\u001b[0;34m.\u001b[0m\u001b[0mnum_best\u001b[0m \u001b[0;32mis\u001b[0m \u001b[0;32mNone\u001b[0m\u001b[0;34m:\u001b[0m\u001b[0;34m\u001b[0m\u001b[0;34m\u001b[0m\u001b[0m\n",
      "\u001b[0;32m/usr/local/lib/python3.6/dist-packages/gensim/similarities/docsim.py\u001b[0m in \u001b[0;36mget_similarities\u001b[0;34m(self, query)\u001b[0m\n\u001b[1;32m    845\u001b[0m             \u001b[0;32melse\u001b[0m\u001b[0;34m:\u001b[0m\u001b[0;34m\u001b[0m\u001b[0;34m\u001b[0m\u001b[0m\n\u001b[1;32m    846\u001b[0m                 \u001b[0;31m# default case: query is a single vector in sparse gensim format\u001b[0m\u001b[0;34m\u001b[0m\u001b[0;34m\u001b[0m\u001b[0;34m\u001b[0m\u001b[0m\n\u001b[0;32m--> 847\u001b[0;31m                 \u001b[0mquery\u001b[0m \u001b[0;34m=\u001b[0m \u001b[0mmatutils\u001b[0m\u001b[0;34m.\u001b[0m\u001b[0msparse2full\u001b[0m\u001b[0;34m(\u001b[0m\u001b[0mquery\u001b[0m\u001b[0;34m,\u001b[0m \u001b[0mself\u001b[0m\u001b[0;34m.\u001b[0m\u001b[0mnum_features\u001b[0m\u001b[0;34m)\u001b[0m\u001b[0;34m\u001b[0m\u001b[0;34m\u001b[0m\u001b[0m\n\u001b[0m\u001b[1;32m    848\u001b[0m             \u001b[0mquery\u001b[0m \u001b[0;34m=\u001b[0m \u001b[0mnumpy\u001b[0m\u001b[0;34m.\u001b[0m\u001b[0masarray\u001b[0m\u001b[0;34m(\u001b[0m\u001b[0mquery\u001b[0m\u001b[0;34m,\u001b[0m \u001b[0mdtype\u001b[0m\u001b[0;34m=\u001b[0m\u001b[0mself\u001b[0m\u001b[0;34m.\u001b[0m\u001b[0mindex\u001b[0m\u001b[0;34m.\u001b[0m\u001b[0mdtype\u001b[0m\u001b[0;34m)\u001b[0m\u001b[0;34m\u001b[0m\u001b[0;34m\u001b[0m\u001b[0m\n\u001b[1;32m    849\u001b[0m \u001b[0;34m\u001b[0m\u001b[0m\n",
      "\u001b[0;32m/usr/local/lib/python3.6/dist-packages/gensim/matutils.py\u001b[0m in \u001b[0;36msparse2full\u001b[0;34m(doc, length)\u001b[0m\n\u001b[1;32m    398\u001b[0m     \u001b[0mdoc\u001b[0m \u001b[0;34m=\u001b[0m \u001b[0mdict\u001b[0m\u001b[0;34m(\u001b[0m\u001b[0mdoc\u001b[0m\u001b[0;34m)\u001b[0m\u001b[0;34m\u001b[0m\u001b[0;34m\u001b[0m\u001b[0m\n\u001b[1;32m    399\u001b[0m     \u001b[0;31m# overwrite some of the zeroes with explicit values\u001b[0m\u001b[0;34m\u001b[0m\u001b[0;34m\u001b[0m\u001b[0;34m\u001b[0m\u001b[0m\n\u001b[0;32m--> 400\u001b[0;31m     \u001b[0mresult\u001b[0m\u001b[0;34m[\u001b[0m\u001b[0mlist\u001b[0m\u001b[0;34m(\u001b[0m\u001b[0mdoc\u001b[0m\u001b[0;34m)\u001b[0m\u001b[0;34m]\u001b[0m \u001b[0;34m=\u001b[0m \u001b[0mlist\u001b[0m\u001b[0;34m(\u001b[0m\u001b[0mitervalues\u001b[0m\u001b[0;34m(\u001b[0m\u001b[0mdoc\u001b[0m\u001b[0;34m)\u001b[0m\u001b[0;34m)\u001b[0m\u001b[0;34m\u001b[0m\u001b[0;34m\u001b[0m\u001b[0m\n\u001b[0m\u001b[1;32m    401\u001b[0m     \u001b[0;32mreturn\u001b[0m \u001b[0mresult\u001b[0m\u001b[0;34m\u001b[0m\u001b[0;34m\u001b[0m\u001b[0m\n\u001b[1;32m    402\u001b[0m \u001b[0;34m\u001b[0m\u001b[0m\n",
      "\u001b[0;31mIndexError\u001b[0m: index 800 is out of bounds for axis 0 with size 800"
     ]
    }
   ],
   "source": [
    "idx = 1657\n",
    "print(data_samples[idx])\n",
    "doc = corpus_tfidf[idx]\n",
    "vec_lsi = lsi[doc] # convert the vector to LSI space\n",
    "sims = index[vec_lsi] # perform a similarity vector against the corpus\n",
    "most_similar = np.argsort(-sims)[1:]\n",
    "print()\n",
    "print(most_similar[0])\n",
    "print()\n",
    "print(data_samples[most_similar[0]])"
   ]
  },
  {
   "cell_type": "code",
   "execution_count": 18,
   "metadata": {},
   "outputs": [
    {
     "name": "stdout",
     "output_type": "stream",
     "text": [
      "[('год', 0.5890941889632927), ('товар', 0.3720594877662901), ('2015', 0.3100495731385751), ('2016', 0.2480396585108601), ('продаж', 0.18602974388314505), ('04', 0.1705272652262163), ('последн', 0.1705272652262163), ('16', 0.15502478656928756), ('19', 0.10851735059850129), ('спецификац', 0.10851735059850129), ('глав', 0.10851735059850129), ('обяз', 0.10851735059850129), ('23', 0.09301487194157253), ('поставлен', 0.09301487194157253), ('06', 0.07751239328464378), ('коммерческ', 0.07751239328464378), ('осуществля', 0.07751239328464378), ('покупател', 0.07751239328464378), ('111', 0.07751239328464378), ('ип', 0.07751239328464378), ('кредит', 0.07751239328464378), ('042', 0.07751239328464378), ('074', 0.07751239328464378), ('пользован', 0.062009914627715025), ('товарн', 0.062009914627715025), ('05', 0.062009914627715025), ('процент', 0.062009914627715025), ('переда', 0.062009914627715025), ('сельскохозяйствен', 0.062009914627715025), ('сем', 0.062009914627715025), ('культур', 0.062009914627715025), ('02', 0.046507435970786264), ('без', 0.046507435970786264), ('во', 0.046507435970786264), ('качеств', 0.046507435970786264), ('одн', 0.046507435970786264), ('подписа', 0.046507435970786264), ('поставк', 0.046507435970786264), ('претенз', 0.046507435970786264), ('приня', 0.046507435970786264), ('продавц', 0.046507435970786264), ('средств', 0.046507435970786264), ('поздн', 0.046507435970786264), ('стоимост', 0.046507435970786264), ('непосредствен', 0.046507435970786264), ('составля', 0.046507435970786264), ('накладн', 0.046507435970786264), ('себ', 0.046507435970786264), ('поступа', 0.046507435970786264), ('замечан', 0.046507435970786264)]\n",
      "\n",
      "[('год', 0.5517088268078975), ('2015', 0.4243914052368442), ('2016', 0.26878122331666804), ('товар', 0.26878122331666804), ('поставк', 0.1697565620947377), ('процент', 0.1697565620947377), ('08', 0.12731742157105327), ('накладн', 0.12731742157105327), ('22', 0.12731742157105327), ('02', 0.1131710413964918), ('04', 0.1131710413964918), ('покупател', 0.1131710413964918), ('средств', 0.1131710413964918), ('пользован', 0.09902466122193032), ('товарн', 0.09902466122193032), ('чуж', 0.09902466122193032), ('09', 0.08487828104736884), ('21', 0.08487828104736884), ('24', 0.08487828104736884), ('13', 0.07073190087280737), ('применен', 0.07073190087280737), ('факт', 0.07073190087280737), ('05', 0.07073190087280737), ('20', 0.07073190087280737), ('составля', 0.07073190087280737), ('2001', 0.07073190087280737), ('06', 0.0565855206982459), ('16', 0.0565855206982459), ('18', 0.0565855206982459), ('333', 0.0565855206982459), ('поставщик', 0.0565855206982459), ('чем', 0.0565855206982459), ('снижен', 0.0565855206982459), ('395', 0.0565855206982459), ('ко', 0.0565855206982459), ('15', 0.04243914052368442), ('некотор', 0.04243914052368442), ('пленум', 0.04243914052368442), ('правил', 0.04243914052368442), ('претенз', 0.04243914052368442), ('ссыла', 0.04243914052368442), ('частичн', 0.04243914052368442), ('408', 0.04243914052368442), ('1301', 0.04243914052368442), ('508', 0.04243914052368442), ('1112', 0.04243914052368442), ('912', 0.04243914052368442), ('812', 0.04243914052368442), ('1212', 0.04243914052368442), ('1812', 0.04243914052368442)]\n"
     ]
    }
   ],
   "source": [
    "tf = sorted(corpus_tfidf[idx], key=lambda x:x[1], reverse=True)[:50]\n",
    "print(list(map(lambda t: (dictionary[t[0]], t[1]), tf)))\n",
    "\n",
    "print()\n",
    "\n",
    "tf_m = sorted(corpus_tfidf[most_similar[0]], key=lambda x:x[1], reverse=True)[:50]\n",
    "print(list(map(lambda t: (dictionary[t[0]], t[1]), tf_m)))"
   ]
  },
  {
   "cell_type": "code",
   "execution_count": 19,
   "metadata": {},
   "outputs": [
    {
     "data": {
      "text/plain": [
       "[0.99999976,\n",
       " 0.7921763,\n",
       " 0.76381695,\n",
       " 0.7116686,\n",
       " 0.7039045,\n",
       " 0.7010084,\n",
       " 0.68113947,\n",
       " 0.6799795,\n",
       " 0.6788172,\n",
       " 0.67414445,\n",
       " 0.66625774,\n",
       " 0.64316034,\n",
       " 0.6335824,\n",
       " 0.63025796,\n",
       " 0.62927926,\n",
       " 0.6270778,\n",
       " 0.6270759,\n",
       " 0.6267911,\n",
       " 0.62265253,\n",
       " 0.61984366,\n",
       " 0.6173283,\n",
       " 0.6139204,\n",
       " 0.6135657,\n",
       " 0.60929954,\n",
       " 0.607912,\n",
       " 0.60688674,\n",
       " 0.6057564,\n",
       " 0.60015595,\n",
       " 0.5977585,\n",
       " 0.5936585,\n",
       " 0.5931006,\n",
       " 0.5920985,\n",
       " 0.5899433,\n",
       " 0.58899194,\n",
       " 0.58878934,\n",
       " 0.5873821,\n",
       " 0.58469987,\n",
       " 0.5818219,\n",
       " 0.57848,\n",
       " 0.5783328,\n",
       " 0.5738248,\n",
       " 0.569247,\n",
       " 0.5668194,\n",
       " 0.5655513,\n",
       " 0.56299114,\n",
       " 0.562619,\n",
       " 0.5617008,\n",
       " 0.56022257,\n",
       " 0.5572003,\n",
       " 0.55716133]"
      ]
     },
     "execution_count": 19,
     "metadata": {},
     "output_type": "execute_result"
    }
   ],
   "source": [
    "sorted(sims, reverse=True)[:50]"
   ]
  },
  {
   "cell_type": "code",
   "execution_count": null,
   "metadata": {},
   "outputs": [],
   "source": []
  }
 ],
 "metadata": {
  "kernelspec": {
   "display_name": "Python 3",
   "language": "python",
   "name": "python3"
  },
  "language_info": {
   "codemirror_mode": {
    "name": "ipython",
    "version": 3
   },
   "file_extension": ".py",
   "mimetype": "text/x-python",
   "name": "python",
   "nbconvert_exporter": "python",
   "pygments_lexer": "ipython3",
   "version": "3.6.7"
  }
 },
 "nbformat": 4,
 "nbformat_minor": 1
}
