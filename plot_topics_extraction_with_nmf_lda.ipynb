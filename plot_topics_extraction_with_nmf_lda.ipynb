{
 "cells": [
  {
   "cell_type": "code",
   "execution_count": 1,
   "metadata": {},
   "outputs": [],
   "source": [
    "%matplotlib inline"
   ]
  },
  {
   "cell_type": "markdown",
   "metadata": {},
   "source": [
    "\n",
    "# Topic extraction with Non-negative Matrix Factorization and Latent Dirichlet Allocation\n",
    "\n",
    "\n",
    "This is an example of applying :class:`sklearn.decomposition.NMF` and\n",
    ":class:`sklearn.decomposition.LatentDirichletAllocation` on a corpus\n",
    "of documents and extract additive models of the topic structure of the\n",
    "corpus.  The output is a list of topics, each represented as a list of\n",
    "terms (weights are not shown).\n",
    "\n",
    "Non-negative Matrix Factorization is applied with two different objective\n",
    "functions: the Frobenius norm, and the generalized Kullback-Leibler divergence.\n",
    "The latter is equivalent to Probabilistic Latent Semantic Indexing.\n",
    "\n",
    "The default parameters (n_samples / n_features / n_components) should make\n",
    "the example runnable in a couple of tens of seconds. You can try to\n",
    "increase the dimensions of the problem, but be aware that the time\n",
    "complexity is polynomial in NMF. In LDA, the time complexity is\n",
    "proportional to (n_samples * iterations).\n",
    "\n",
    "\n"
   ]
  },
  {
   "cell_type": "code",
   "execution_count": 3,
   "metadata": {},
   "outputs": [
    {
     "name": "stdout",
     "output_type": "stream",
     "text": [
      "Loading dataset...\n",
      "loaded 20000 samples in 307.761s.\n"
     ]
    }
   ],
   "source": [
    "# Author: Olivier Grisel <olivier.grisel@ensta.org>\n",
    "#         Lars Buitinck\n",
    "#         Chyi-Kwei Yau <chyikwei.yau@gmail.com>\n",
    "# License: BSD 3 clause\n",
    "\n",
    "from __future__ import print_function\n",
    "\n",
    "import itertools\n",
    "from pathlib import Path\n",
    "from time import time\n",
    "import os\n",
    "\n",
    "from sklearn.feature_extraction.text import TfidfVectorizer, CountVectorizer\n",
    "from sklearn.decomposition import NMF, LatentDirichletAllocation\n",
    "\n",
    "from text_processing.simple import parse_all\n",
    "\n",
    "n_samples = 20000\n",
    "n_features = 5000\n",
    "n_components = 15\n",
    "n_top_words = 20\n",
    "\n",
    "\n",
    "def print_top_words(model, feature_names, n_top_words):\n",
    "    for topic_idx, topic in enumerate(model.components_):\n",
    "        message = \"Topic #%d: \" % topic_idx\n",
    "        message += \" \".join([feature_names[i]\n",
    "                             for i in topic.argsort()[:-n_top_words - 1:-1]])\n",
    "        print(message)\n",
    "    print()\n",
    "\n",
    "\n",
    "print(\"Loading dataset...\")\n",
    "t0 = time()\n",
    "data_samples = list(itertools.islice(parse_all(\"./out/docs_simple2\"), n_samples))\n",
    "print(\"loaded %d samples in %0.3fs.\" % (len(data_samples), time() - t0))"
   ]
  },
  {
   "cell_type": "code",
   "execution_count": 4,
   "metadata": {},
   "outputs": [],
   "source": [
    "from collections import defaultdict\n",
    "\n",
    "from nltk.stem.snowball import SnowballStemmer\n",
    "\n",
    "import numpy as np\n",
    "\n",
    "\n",
    "class key_dependent_dict(defaultdict):\n",
    "    def __init__(self, f_of_x):\n",
    "        super().__init__(None) # base class doesn't get a factory\n",
    "        self.f_of_x = f_of_x # save f(x)\n",
    "    def __missing__(self, key): # called when a default needed\n",
    "        ret = self.f_of_x(key) # calculate default value\n",
    "        self[key] = ret # and install it in the dict\n",
    "        return ret\n",
    "\n",
    "\n",
    "STOP_WORDS = {'от', 'на', 'не', 'рф', 'ст'}\n",
    "\n",
    "stemmer = SnowballStemmer(\"russian\")\n",
    "CACHE = key_dependent_dict(lambda w: stemmer.stem(w))\n"
   ]
  },
  {
   "cell_type": "code",
   "execution_count": 5,
   "metadata": {},
   "outputs": [
    {
     "name": "stdout",
     "output_type": "stream",
     "text": [
      "12665\n"
     ]
    }
   ],
   "source": [
    "from gensim import corpora, models, similarities\n",
    "\n",
    "analyzer = TfidfVectorizer().build_analyzer()\n",
    "texts = [[CACHE[w] for w in analyzer(doc) if w not in STOP_WORDS] for doc in data_samples]\n",
    "dictionary = corpora.Dictionary(texts)\n",
    "\n",
    "dictionary.filter_extremes(no_below=10, no_above=0.66)\n",
    "print(len(dictionary))"
   ]
  },
  {
   "cell_type": "code",
   "execution_count": 6,
   "metadata": {},
   "outputs": [],
   "source": [
    "corpus = [dictionary.doc2bow(text) for text in texts]\n",
    "tfidf = models.TfidfModel(corpus, smartirs='nnc')\n",
    "corpus_tfidf = tfidf[corpus]"
   ]
  },
  {
   "cell_type": "code",
   "execution_count": 7,
   "metadata": {},
   "outputs": [
    {
     "name": "stdout",
     "output_type": "stream",
     "text": [
      "LSIindex built in 129.724s\n"
     ]
    }
   ],
   "source": [
    "t0 = time()\n",
    "lsi = models.LsiModel(corpus_tfidf, id2word=dictionary, num_topics=400)\n",
    "index = similarities.MatrixSimilarity(lsi[corpus_tfidf]) # transform corpus to LSI space and index it\n",
    "print(\"LSIindex built in %.3fs\" % (time()-t0))"
   ]
  },
  {
   "cell_type": "code",
   "execution_count": 14,
   "metadata": {},
   "outputs": [
    {
     "data": {
      "image/png": "[encoded data removed]",
      "text/plain": [
       "<Figure size 720x360 with 1 Axes>"
      ]
     },
     "metadata": {
      "needs_background": "light"
     },
     "output_type": "display_data"
    }
   ],
   "source": [
    "s = lsi.projection.s\n",
    "\n",
    "import matplotlib.pyplot as plt\n",
    "plt.figure(figsize=(10,5))\n",
    "plt.plot(s[:500])\n",
    "#plt.plot(np.cumsum(s[:500]), c='green')\n",
    "plt.xlabel('Singular values', fontsize=12)\n",
    "plt.grid(True, 'both')\n",
    "plt.show()"
   ]
  },
  {
   "cell_type": "code",
   "execution_count": 9,
   "metadata": {},
   "outputs": [
    {
     "name": "stderr",
     "output_type": "stream",
     "text": [
      "INFO:gensim.models.lsimodel:topic #0(59.852): 0.259*\"неустойк\" + 0.234*\"услуг\" + 0.182*\"энерг\" + 0.167*\"товар\" + 0.153*\"работ\" + 0.145*\"2016\" + 0.127*\"год\" + 0.121*\"средств\" + 0.119*\"пен\" + 0.103*\"организац\" + 0.102*\"ден\" + 0.100*\"фактическ\" + 0.100*\"поставк\" + 0.100*\"просрочк\" + 0.099*\"заказчик\" + 0.095*\"04\" + 0.094*\"05\" + 0.092*\"06\" + 0.091*\"имуществ\" + 0.089*\"кредитор\" + 0.084*\"02\" + 0.083*\"счет\" + 0.082*\"процент\" + 0.082*\"08\" + 0.082*\"покупател\" + 0.082*\"09\" + 0.081*\"выполнен\" + 0.078*\"обяз\" + 0.076*\"плат\" + 0.076*\"стоимост\"\n",
      "INFO:gensim.models.lsimodel:topic #1(31.229): -0.556*\"энерг\" + 0.310*\"работ\" + -0.202*\"электрическ\" + 0.190*\"товар\" + -0.175*\"потреблен\" + -0.175*\"теплов\" + -0.161*\"организац\" + 0.161*\"выполнен\" + 0.144*\"заказчик\" + -0.142*\"потребител\" + -0.135*\"фактическ\" + -0.132*\"абонент\" + -0.106*\"ден\" + -0.102*\"коммунальн\" + -0.101*\"сет\" + 0.093*\"подрядчик\" + 0.090*\"средств\" + -0.084*\"энергоснабжен\" + -0.084*\"прибор\" + -0.083*\"мощност\" + -0.078*\"месяц\" + 0.077*\"контракт\" + -0.076*\"вод\" + 0.069*\"процент\" + 0.069*\"результат\" + -0.066*\"пен\" + -0.064*\"дом\" + -0.064*\"присоединен\" + 0.064*\"покупател\" + 0.063*\"возмещен\"\n",
      "INFO:gensim.models.lsimodel:topic #2(28.608): -0.587*\"товар\" + 0.354*\"работ\" + -0.275*\"покупател\" + -0.272*\"поставк\" + 0.203*\"услуг\" + 0.181*\"выполнен\" + 0.158*\"заказчик\" + -0.154*\"неустойк\" + -0.152*\"поставщик\" + 0.096*\"подрядчик\" + 0.095*\"имуществ\" + 0.095*\"дом\" + -0.089*\"поставлен\" + 0.087*\"помещен\" + -0.077*\"накладн\" + 0.071*\"объект\" + -0.070*\"товарн\" + 0.069*\"плат\" + 0.067*\"результат\" + 0.066*\"многоквартирн\" + -0.057*\"продаж\" + 0.056*\"коммунальн\" + 0.055*\"аренд\" + 0.055*\"ремонт\" + 0.055*\"исполнител\" + -0.054*\"просрочк\" + 0.053*\"земельн\" + -0.052*\"переда\" + 0.052*\"собственник\" + -0.052*\"купл\"\n",
      "INFO:gensim.models.lsimodel:topic #3(26.933): 0.432*\"работ\" + -0.287*\"плат\" + -0.267*\"аренд\" + -0.246*\"арендн\" + -0.225*\"имуществ\" + 0.224*\"заказчик\" + 0.222*\"выполнен\" + -0.211*\"земельн\" + -0.163*\"участк\" + -0.159*\"арендатор\" + 0.152*\"контракт\" + 0.147*\"энерг\" + 0.134*\"подрядчик\" + -0.121*\"помещен\" + -0.113*\"пользован\" + -0.099*\"арендодател\" + 0.095*\"товар\" + -0.093*\"собствен\" + -0.076*\"страхов\" + 0.075*\"услуг\" + -0.069*\"внесен\" + -0.068*\"площад\" + -0.064*\"дом\" + 0.063*\"поставк\" + -0.063*\"кв\" + -0.061*\"год\" + 0.059*\"обяз\" + -0.057*\"средств\" + 0.057*\"подряд\" + 0.057*\"электрическ\"\n",
      "INFO:gensim.models.lsimodel:topic #4(24.286): 0.441*\"услуг\" + 0.290*\"страхов\" + -0.269*\"работ\" + 0.241*\"возмещен\" + -0.186*\"арендн\" + -0.184*\"аренд\" + -0.183*\"плат\" + 0.175*\"транспортн\" + -0.161*\"земельн\" + 0.158*\"выплат\" + 0.155*\"средств\" + -0.132*\"выполнен\" + -0.127*\"участк\" + 0.127*\"потерпевш\" + 0.121*\"страховщик\" + -0.109*\"арендатор\" + 0.105*\"вред\" + 0.105*\"страхован\" + 0.101*\"оказа\" + -0.098*\"контракт\" + 0.097*\"оказан\" + -0.091*\"подрядчик\" + -0.090*\"энерг\" + -0.087*\"пен\" + 0.086*\"причинен\" + 0.079*\"ответствен\" + 0.078*\"экспертиз\" + 0.073*\"поврежден\" + -0.072*\"объект\" + 0.072*\"убытк\"\n",
      "INFO:gensim.models.lsimodel:topic #5(22.968): 0.560*\"неустойк\" + -0.343*\"услуг\" + -0.240*\"товар\" + 0.189*\"страхов\" + -0.151*\"дом\" + -0.125*\"помещен\" + 0.119*\"333\" + 0.119*\"возмещен\" + 0.117*\"пен\" + 0.115*\"кредитор\" + -0.111*\"поставк\" + -0.110*\"покупател\" + 0.109*\"выплат\" + 0.108*\"просрочк\" + -0.107*\"многоквартирн\" + 0.104*\"ден\" + 0.104*\"ответствен\" + 0.102*\"последств\" + -0.099*\"коммунальн\" + 0.095*\"несоразмерн\" + -0.090*\"оказа\" + -0.086*\"оказан\" + 0.078*\"транспортн\" + 0.078*\"потерпевш\" + -0.076*\"собственник\" + 0.075*\"страховщик\" + 0.074*\"должник\" + -0.070*\"счет\" + 0.070*\"применен\" + -0.067*\"имуществ\"\n",
      "INFO:gensim.models.lsimodel:topic #6(20.956): 0.506*\"услуг\" + 0.338*\"неустойк\" + -0.230*\"энерг\" + -0.187*\"страхов\" + 0.170*\"оказа\" + -0.158*\"средств\" + 0.138*\"оказан\" + 0.136*\"плат\" + -0.134*\"возмещен\" + 0.132*\"пен\" + -0.132*\"работ\" + 0.122*\"заказчик\" + 0.115*\"арендн\" + 0.114*\"исполнител\" + -0.111*\"транспортн\" + 0.099*\"просрочк\" + -0.096*\"вред\" + -0.091*\"теплов\" + -0.086*\"экспертиз\" + -0.085*\"потерпевш\" + -0.084*\"имуществ\" + -0.083*\"страховщик\" + -0.083*\"потреблен\" + -0.083*\"страхован\" + 0.081*\"аренд\" + -0.080*\"электрическ\" + -0.078*\"обществ\" + -0.078*\"выплат\" + -0.073*\"убытк\" + -0.072*\"результат\"\n",
      "INFO:gensim.models.lsimodel:topic #7(18.834): -0.388*\"дом\" + -0.291*\"помещен\" + -0.278*\"многоквартирн\" + 0.241*\"процент\" + -0.197*\"коммунальн\" + -0.196*\"неустойк\" + -0.194*\"собственник\" + 0.186*\"средств\" + -0.163*\"имуществ\" + -0.162*\"товар\" + -0.148*\"содержан\" + -0.143*\"жил\" + 0.130*\"пользован\" + 0.128*\"энерг\" + -0.117*\"контракт\" + -0.113*\"организац\" + -0.108*\"управлен\" + -0.103*\"ремонт\" + 0.099*\"арендн\" + 0.097*\"электрическ\" + 0.095*\"аренд\" + 0.089*\"чуж\" + 0.085*\"оказа\" + 0.083*\"возврат\" + -0.082*\"жилищн\" + 0.081*\"счет\" + 0.077*\"услуг\" + -0.073*\"управля\" + 0.072*\"2016\" + 0.070*\"оказан\"\n",
      "INFO:gensim.models.lsimodel:topic #8(17.204): -0.394*\"процент\" + -0.254*\"средств\" + 0.192*\"земельн\" + 0.168*\"услуг\" + 0.163*\"энерг\" + -0.159*\"пользован\" + 0.158*\"участк\" + 0.153*\"электрическ\" + -0.147*\"дом\" + 0.147*\"контракт\" + 0.146*\"аренд\" + 0.143*\"товар\" + -0.138*\"чуж\" + -0.138*\"2016\" + 0.135*\"арендн\" + 0.130*\"страхов\" + -0.128*\"возврат\" + -0.126*\"организац\" + 0.114*\"возмещен\" + -0.110*\"банк\" + -0.110*\"многоквартирн\" + -0.110*\"займ\" + 0.106*\"плат\" + -0.106*\"помещен\" + -0.104*\"ден\" + -0.104*\"неосновательн\" + -0.093*\"395\" + 0.085*\"заказчик\" + -0.082*\"заемщик\" + -0.081*\"долг\"\n",
      "INFO:gensim.models.lsimodel:topic #9(15.654): 0.256*\"плат\" + 0.209*\"арендн\" + -0.204*\"контракт\" + -0.203*\"обществ\" + -0.197*\"земельн\" + 0.171*\"работ\" + -0.168*\"объект\" + -0.164*\"юридическ\" + 0.158*\"помещен\" + 0.158*\"аренд\" + -0.156*\"участк\" + -0.148*\"федеральн\" + -0.147*\"решен\" + 0.144*\"арендатор\" + 0.143*\"страхов\" + -0.120*\"строительств\" + -0.118*\"участник\" + -0.114*\"организац\" + 0.109*\"дом\" + -0.102*\"собствен\" + -0.097*\"регистрац\" + 0.095*\"средств\" + 0.095*\"товар\" + 0.094*\"пользован\" + 0.093*\"возмещен\" + 0.093*\"арендодател\" + -0.090*\"муниципальн\" + 0.089*\"энерг\" + 0.088*\"многоквартирн\" + 0.088*\"коммунальн\"\n",
      "INFO:gensim.models.lsimodel:topic #10(14.739): -0.599*\"контракт\" + 0.232*\"электрическ\" + 0.230*\"неустойк\" + -0.202*\"пен\" + -0.151*\"ден\" + -0.130*\"муниципальн\" + -0.119*\"вод\" + 0.119*\"работ\" + -0.114*\"дня\" + -0.113*\"фактическ\" + -0.112*\"теплов\" + -0.111*\"страхов\" + -0.103*\"ставк\" + 0.102*\"энерг\" + 0.096*\"последств\" + -0.095*\"водоснабжен\" + -0.091*\"банк\" + 0.090*\"обществ\" + -0.089*\"просрочк\" + -0.083*\"наступлен\" + -0.082*\"средств\" + 0.077*\"юридическ\" + 0.076*\"покупател\" + -0.074*\"федеральн\" + -0.074*\"водоотведен\" + -0.072*\"рефинансирован\" + -0.071*\"заказчик\" + -0.069*\"горяч\" + 0.068*\"333\" + -0.067*\"центральн\"\n",
      "INFO:gensim.models.lsimodel:topic #11(14.388): -0.361*\"электрическ\" + -0.320*\"контракт\" + 0.243*\"организац\" + -0.238*\"процент\" + 0.180*\"вод\" + -0.174*\"средств\" + 0.170*\"теплов\" + -0.123*\"энерг\" + 0.119*\"газ\" + 0.117*\"взнос\" + 0.115*\"водоснабжен\" + 0.113*\"член\" + 0.111*\"юридическ\" + 0.103*\"абонент\" + -0.101*\"земельн\" + -0.100*\"пользован\" + -0.098*\"муниципальн\" + -0.097*\"имуществ\" + 0.095*\"саморегулируем\" + -0.095*\"мощност\" + 0.094*\"водоотведен\" + -0.091*\"дом\" + -0.091*\"электроэнерг\" + 0.088*\"горяч\" + -0.086*\"объект\" + -0.085*\"чуж\" + 0.082*\"членск\" + -0.081*\"передач\" + -0.081*\"собствен\" + 0.080*\"год\"\n",
      "INFO:gensim.models.lsimodel:topic #12(13.838): -0.499*\"2016\" + 0.333*\"земельн\" + 0.254*\"участк\" + -0.231*\"контракт\" + -0.207*\"год\" + 0.203*\"процент\" + -0.161*\"2015\" + -0.148*\"обществ\" + 0.148*\"средств\" + 0.120*\"работ\" + 0.112*\"ден\" + -0.103*\"электрическ\" + 0.100*\"фактическ\" + 0.097*\"собствен\" + 0.094*\"объект\" + 0.090*\"пользован\" + 0.087*\"чуж\" + 0.086*\"услуг\" + -0.085*\"06\" + -0.085*\"помещен\" + -0.079*\"вагон\" + 0.079*\"товар\" + 0.077*\"кадастров\" + -0.072*\"лизинг\" + -0.071*\"груз\" + -0.071*\"09\" + 0.070*\"вод\" + -0.068*\"08\" + -0.068*\"платеж\" + 0.066*\"участок\"\n",
      "INFO:gensim.models.lsimodel:topic #13(13.638): 0.527*\"2016\" + -0.272*\"контракт\" + 0.217*\"земельн\" + -0.175*\"электрическ\" + 0.171*\"участк\" + -0.159*\"организац\" + 0.153*\"теплов\" + -0.144*\"имуществ\" + 0.143*\"2015\" + -0.139*\"взнос\" + -0.133*\"юридическ\" + -0.125*\"член\" + 0.107*\"вод\" + -0.101*\"саморегулируем\" + -0.091*\"членск\" + 0.083*\"09\" + 0.081*\"05\" + -0.080*\"плат\" + 0.079*\"06\" + -0.077*\"времен\" + -0.075*\"обществ\" + -0.075*\"лизинг\" + -0.075*\"арендатор\" + -0.075*\"мест\" + -0.075*\"средств\" + 0.075*\"31\" + 0.074*\"04\" + -0.072*\"некоммерческ\" + -0.068*\"аренд\" + 0.067*\"водоснабжен\"\n"
     ]
    },
    {
     "name": "stderr",
     "output_type": "stream",
     "text": [
      "INFO:gensim.models.lsimodel:topic #14(13.032): 0.410*\"теплов\" + -0.284*\"электрическ\" + -0.279*\"ден\" + 0.242*\"контракт\" + -0.206*\"пен\" + -0.175*\"фактическ\" + -0.172*\"дня\" + 0.163*\"энерг\" + -0.158*\"наступлен\" + 0.134*\"неустойк\" + -0.131*\"газ\" + 0.108*\"теплоснабжен\" + 0.105*\"груз\" + -0.101*\"дне\" + 0.100*\"теплоносител\" + 0.095*\"средств\" + -0.094*\"календарн\" + 0.092*\"пользован\" + -0.089*\"ставк\" + -0.087*\"просрочк\" + -0.085*\"банк\" + -0.084*\"рефинансирован\" + -0.084*\"2016\" + 0.080*\"последств\" + 0.080*\"вод\" + 0.079*\"горяч\" + -0.078*\"начин\" + -0.076*\"электроэнерг\" + 0.075*\"333\" + 0.074*\"процент\"\n",
      "INFO:gensim.models.lsimodel:topic #15(12.696): 0.340*\"груз\" + 0.326*\"вагон\" + -0.302*\"организац\" + -0.242*\"2016\" + -0.205*\"взнос\" + -0.189*\"член\" + 0.169*\"перевозк\" + -0.163*\"саморегулируем\" + 0.146*\"железнодорожн\" + 0.139*\"газ\" + -0.139*\"членск\" + 0.119*\"перевозчик\" + 0.111*\"пен\" + -0.110*\"некоммерческ\" + -0.110*\"товар\" + 0.100*\"ремонт\" + -0.098*\"страхов\" + -0.094*\"ассоциац\" + -0.093*\"арендн\" + 0.086*\"доставк\" + 0.086*\"ден\" + 0.085*\"накладн\" + 0.084*\"транспортн\" + 0.083*\"фактическ\" + -0.081*\"процент\" + 0.080*\"транспорт\" + 0.079*\"убытк\" + -0.075*\"контракт\" + 0.075*\"станц\" + -0.074*\"союз\"\n",
      "INFO:gensim.models.lsimodel:topic #16(12.446): 0.347*\"груз\" + 0.299*\"вагон\" + 0.256*\"организац\" + -0.208*\"имуществ\" + 0.174*\"2016\" + 0.172*\"перевозк\" + -0.169*\"обществ\" + 0.169*\"земельн\" + -0.147*\"газ\" + 0.147*\"железнодорожн\" + 0.146*\"взнос\" + 0.140*\"участк\" + -0.135*\"лизинг\" + 0.132*\"член\" + 0.130*\"электрическ\" + 0.120*\"перевозчик\" + 0.118*\"саморегулируем\" + -0.110*\"юридическ\" + 0.110*\"транспортн\" + 0.107*\"плат\" + -0.106*\"сделк\" + 0.100*\"процент\" + 0.099*\"накладн\" + 0.097*\"членск\" + 0.085*\"доставк\" + 0.084*\"ремонт\" + 0.083*\"транспорт\" + 0.078*\"некоммерческ\" + -0.076*\"платеж\" + -0.074*\"помещен\"\n",
      "INFO:gensim.models.lsimodel:topic #17(11.671): 0.507*\"газ\" + 0.337*\"год\" + -0.286*\"обществ\" + -0.235*\"юридическ\" + -0.162*\"товар\" + 0.146*\"поставк\" + 0.144*\"имуществ\" + -0.120*\"теплов\" + 0.110*\"взнос\" + 0.109*\"неустойк\" + -0.108*\"ден\" + -0.104*\"пен\" + 0.098*\"объект\" + -0.092*\"плат\" + -0.086*\"участник\" + -0.086*\"арендн\" + -0.085*\"решен\" + 0.083*\"член\" + 0.080*\"месяц\" + 0.078*\"31\" + 0.076*\"покупател\" + -0.076*\"коммунальн\" + 0.075*\"поставщик\" + -0.075*\"фактическ\" + 0.073*\"транспортировк\" + -0.071*\"энерг\" + 0.070*\"членск\" + -0.066*\"дня\" + 0.065*\"собствен\" + -0.065*\"орга\"\n",
      "INFO:gensim.models.lsimodel:topic #18(11.502): -0.537*\"год\" + 0.305*\"имуществ\" + 0.273*\"2016\" + -0.271*\"обществ\" + -0.150*\"2015\" + -0.143*\"процент\" + 0.139*\"объект\" + 0.138*\"лизинг\" + -0.137*\"газ\" + -0.120*\"плат\" + -0.113*\"коммунальн\" + -0.105*\"решен\" + 0.099*\"собствен\" + -0.098*\"юридическ\" + -0.097*\"дом\" + 0.089*\"организац\" + -0.085*\"арендн\" + 0.083*\"недвижим\" + -0.077*\"поставк\" + -0.077*\"участник\" + -0.077*\"многоквартирн\" + -0.076*\"2014\" + 0.073*\"взнос\" + -0.071*\"давност\" + 0.069*\"04\" + 0.067*\"член\" + 0.060*\"саморегулируем\" + -0.059*\"участк\" + -0.059*\"земельн\" + 0.058*\"предмет\"\n",
      "INFO:gensim.models.lsimodel:topic #19(11.152): 0.466*\"газ\" + -0.432*\"год\" + -0.245*\"лизинг\" + -0.229*\"2015\" + 0.198*\"2016\" + 0.180*\"обществ\" + -0.159*\"товар\" + 0.151*\"поставк\" + -0.109*\"вод\" + 0.107*\"юридическ\" + -0.107*\"платеж\" + -0.106*\"лизингополучател\" + -0.105*\"2014\" + -0.101*\"водоснабжен\" + -0.098*\"имуществ\" + 0.096*\"процент\" + 0.094*\"контракт\" + -0.090*\"предмет\" + -0.090*\"водоотведен\" + 0.083*\"поставщик\" + -0.083*\"лизингодател\" + -0.082*\"объект\" + -0.078*\"передач\" + 0.076*\"дом\" + 0.073*\"плат\" + 0.072*\"участник\" + 0.071*\"помещен\" + -0.066*\"продаж\" + 0.065*\"месяц\" + 0.063*\"решен\"\n"
     ]
    },
    {
     "data": {
      "text/plain": [
       "[(0,\n",
       "  '0.259*\"неустойк\" + 0.234*\"услуг\" + 0.182*\"энерг\" + 0.167*\"товар\" + 0.153*\"работ\" + 0.145*\"2016\" + 0.127*\"год\" + 0.121*\"средств\" + 0.119*\"пен\" + 0.103*\"организац\" + 0.102*\"ден\" + 0.100*\"фактическ\" + 0.100*\"поставк\" + 0.100*\"просрочк\" + 0.099*\"заказчик\" + 0.095*\"04\" + 0.094*\"05\" + 0.092*\"06\" + 0.091*\"имуществ\" + 0.089*\"кредитор\" + 0.084*\"02\" + 0.083*\"счет\" + 0.082*\"процент\" + 0.082*\"08\" + 0.082*\"покупател\" + 0.082*\"09\" + 0.081*\"выполнен\" + 0.078*\"обяз\" + 0.076*\"плат\" + 0.076*\"стоимост\"'),\n",
       " (1,\n",
       "  '-0.556*\"энерг\" + 0.310*\"работ\" + -0.202*\"электрическ\" + 0.190*\"товар\" + -0.175*\"потреблен\" + -0.175*\"теплов\" + -0.161*\"организац\" + 0.161*\"выполнен\" + 0.144*\"заказчик\" + -0.142*\"потребител\" + -0.135*\"фактическ\" + -0.132*\"абонент\" + -0.106*\"ден\" + -0.102*\"коммунальн\" + -0.101*\"сет\" + 0.093*\"подрядчик\" + 0.090*\"средств\" + -0.084*\"энергоснабжен\" + -0.084*\"прибор\" + -0.083*\"мощност\" + -0.078*\"месяц\" + 0.077*\"контракт\" + -0.076*\"вод\" + 0.069*\"процент\" + 0.069*\"результат\" + -0.066*\"пен\" + -0.064*\"дом\" + -0.064*\"присоединен\" + 0.064*\"покупател\" + 0.063*\"возмещен\"'),\n",
       " (2,\n",
       "  '-0.587*\"товар\" + 0.354*\"работ\" + -0.275*\"покупател\" + -0.272*\"поставк\" + 0.203*\"услуг\" + 0.181*\"выполнен\" + 0.158*\"заказчик\" + -0.154*\"неустойк\" + -0.152*\"поставщик\" + 0.096*\"подрядчик\" + 0.095*\"имуществ\" + 0.095*\"дом\" + -0.089*\"поставлен\" + 0.087*\"помещен\" + -0.077*\"накладн\" + 0.071*\"объект\" + -0.070*\"товарн\" + 0.069*\"плат\" + 0.067*\"результат\" + 0.066*\"многоквартирн\" + -0.057*\"продаж\" + 0.056*\"коммунальн\" + 0.055*\"аренд\" + 0.055*\"ремонт\" + 0.055*\"исполнител\" + -0.054*\"просрочк\" + 0.053*\"земельн\" + -0.052*\"переда\" + 0.052*\"собственник\" + -0.052*\"купл\"'),\n",
       " (3,\n",
       "  '0.432*\"работ\" + -0.287*\"плат\" + -0.267*\"аренд\" + -0.246*\"арендн\" + -0.225*\"имуществ\" + 0.224*\"заказчик\" + 0.222*\"выполнен\" + -0.211*\"земельн\" + -0.163*\"участк\" + -0.159*\"арендатор\" + 0.152*\"контракт\" + 0.147*\"энерг\" + 0.134*\"подрядчик\" + -0.121*\"помещен\" + -0.113*\"пользован\" + -0.099*\"арендодател\" + 0.095*\"товар\" + -0.093*\"собствен\" + -0.076*\"страхов\" + 0.075*\"услуг\" + -0.069*\"внесен\" + -0.068*\"площад\" + -0.064*\"дом\" + 0.063*\"поставк\" + -0.063*\"кв\" + -0.061*\"год\" + 0.059*\"обяз\" + -0.057*\"средств\" + 0.057*\"подряд\" + 0.057*\"электрическ\"'),\n",
       " (4,\n",
       "  '0.441*\"услуг\" + 0.290*\"страхов\" + -0.269*\"работ\" + 0.241*\"возмещен\" + -0.186*\"арендн\" + -0.184*\"аренд\" + -0.183*\"плат\" + 0.175*\"транспортн\" + -0.161*\"земельн\" + 0.158*\"выплат\" + 0.155*\"средств\" + -0.132*\"выполнен\" + -0.127*\"участк\" + 0.127*\"потерпевш\" + 0.121*\"страховщик\" + -0.109*\"арендатор\" + 0.105*\"вред\" + 0.105*\"страхован\" + 0.101*\"оказа\" + -0.098*\"контракт\" + 0.097*\"оказан\" + -0.091*\"подрядчик\" + -0.090*\"энерг\" + -0.087*\"пен\" + 0.086*\"причинен\" + 0.079*\"ответствен\" + 0.078*\"экспертиз\" + 0.073*\"поврежден\" + -0.072*\"объект\" + 0.072*\"убытк\"'),\n",
       " (5,\n",
       "  '0.560*\"неустойк\" + -0.343*\"услуг\" + -0.240*\"товар\" + 0.189*\"страхов\" + -0.151*\"дом\" + -0.125*\"помещен\" + 0.119*\"333\" + 0.119*\"возмещен\" + 0.117*\"пен\" + 0.115*\"кредитор\" + -0.111*\"поставк\" + -0.110*\"покупател\" + 0.109*\"выплат\" + 0.108*\"просрочк\" + -0.107*\"многоквартирн\" + 0.104*\"ден\" + 0.104*\"ответствен\" + 0.102*\"последств\" + -0.099*\"коммунальн\" + 0.095*\"несоразмерн\" + -0.090*\"оказа\" + -0.086*\"оказан\" + 0.078*\"транспортн\" + 0.078*\"потерпевш\" + -0.076*\"собственник\" + 0.075*\"страховщик\" + 0.074*\"должник\" + -0.070*\"счет\" + 0.070*\"применен\" + -0.067*\"имуществ\"'),\n",
       " (6,\n",
       "  '0.506*\"услуг\" + 0.338*\"неустойк\" + -0.230*\"энерг\" + -0.187*\"страхов\" + 0.170*\"оказа\" + -0.158*\"средств\" + 0.138*\"оказан\" + 0.136*\"плат\" + -0.134*\"возмещен\" + 0.132*\"пен\" + -0.132*\"работ\" + 0.122*\"заказчик\" + 0.115*\"арендн\" + 0.114*\"исполнител\" + -0.111*\"транспортн\" + 0.099*\"просрочк\" + -0.096*\"вред\" + -0.091*\"теплов\" + -0.086*\"экспертиз\" + -0.085*\"потерпевш\" + -0.084*\"имуществ\" + -0.083*\"страховщик\" + -0.083*\"потреблен\" + -0.083*\"страхован\" + 0.081*\"аренд\" + -0.080*\"электрическ\" + -0.078*\"обществ\" + -0.078*\"выплат\" + -0.073*\"убытк\" + -0.072*\"результат\"'),\n",
       " (7,\n",
       "  '-0.388*\"дом\" + -0.291*\"помещен\" + -0.278*\"многоквартирн\" + 0.241*\"процент\" + -0.197*\"коммунальн\" + -0.196*\"неустойк\" + -0.194*\"собственник\" + 0.186*\"средств\" + -0.163*\"имуществ\" + -0.162*\"товар\" + -0.148*\"содержан\" + -0.143*\"жил\" + 0.130*\"пользован\" + 0.128*\"энерг\" + -0.117*\"контракт\" + -0.113*\"организац\" + -0.108*\"управлен\" + -0.103*\"ремонт\" + 0.099*\"арендн\" + 0.097*\"электрическ\" + 0.095*\"аренд\" + 0.089*\"чуж\" + 0.085*\"оказа\" + 0.083*\"возврат\" + -0.082*\"жилищн\" + 0.081*\"счет\" + 0.077*\"услуг\" + -0.073*\"управля\" + 0.072*\"2016\" + 0.070*\"оказан\"'),\n",
       " (8,\n",
       "  '-0.394*\"процент\" + -0.254*\"средств\" + 0.192*\"земельн\" + 0.168*\"услуг\" + 0.163*\"энерг\" + -0.159*\"пользован\" + 0.158*\"участк\" + 0.153*\"электрическ\" + -0.147*\"дом\" + 0.147*\"контракт\" + 0.146*\"аренд\" + 0.143*\"товар\" + -0.138*\"чуж\" + -0.138*\"2016\" + 0.135*\"арендн\" + 0.130*\"страхов\" + -0.128*\"возврат\" + -0.126*\"организац\" + 0.114*\"возмещен\" + -0.110*\"банк\" + -0.110*\"многоквартирн\" + -0.110*\"займ\" + 0.106*\"плат\" + -0.106*\"помещен\" + -0.104*\"ден\" + -0.104*\"неосновательн\" + -0.093*\"395\" + 0.085*\"заказчик\" + -0.082*\"заемщик\" + -0.081*\"долг\"'),\n",
       " (9,\n",
       "  '0.256*\"плат\" + 0.209*\"арендн\" + -0.204*\"контракт\" + -0.203*\"обществ\" + -0.197*\"земельн\" + 0.171*\"работ\" + -0.168*\"объект\" + -0.164*\"юридическ\" + 0.158*\"помещен\" + 0.158*\"аренд\" + -0.156*\"участк\" + -0.148*\"федеральн\" + -0.147*\"решен\" + 0.144*\"арендатор\" + 0.143*\"страхов\" + -0.120*\"строительств\" + -0.118*\"участник\" + -0.114*\"организац\" + 0.109*\"дом\" + -0.102*\"собствен\" + -0.097*\"регистрац\" + 0.095*\"средств\" + 0.095*\"товар\" + 0.094*\"пользован\" + 0.093*\"возмещен\" + 0.093*\"арендодател\" + -0.090*\"муниципальн\" + 0.089*\"энерг\" + 0.088*\"многоквартирн\" + 0.088*\"коммунальн\"'),\n",
       " (10,\n",
       "  '-0.599*\"контракт\" + 0.232*\"электрическ\" + 0.230*\"неустойк\" + -0.202*\"пен\" + -0.151*\"ден\" + -0.130*\"муниципальн\" + -0.119*\"вод\" + 0.119*\"работ\" + -0.114*\"дня\" + -0.113*\"фактическ\" + -0.112*\"теплов\" + -0.111*\"страхов\" + -0.103*\"ставк\" + 0.102*\"энерг\" + 0.096*\"последств\" + -0.095*\"водоснабжен\" + -0.091*\"банк\" + 0.090*\"обществ\" + -0.089*\"просрочк\" + -0.083*\"наступлен\" + -0.082*\"средств\" + 0.077*\"юридическ\" + 0.076*\"покупател\" + -0.074*\"федеральн\" + -0.074*\"водоотведен\" + -0.072*\"рефинансирован\" + -0.071*\"заказчик\" + -0.069*\"горяч\" + 0.068*\"333\" + -0.067*\"центральн\"'),\n",
       " (11,\n",
       "  '-0.361*\"электрическ\" + -0.320*\"контракт\" + 0.243*\"организац\" + -0.238*\"процент\" + 0.180*\"вод\" + -0.174*\"средств\" + 0.170*\"теплов\" + -0.123*\"энерг\" + 0.119*\"газ\" + 0.117*\"взнос\" + 0.115*\"водоснабжен\" + 0.113*\"член\" + 0.111*\"юридическ\" + 0.103*\"абонент\" + -0.101*\"земельн\" + -0.100*\"пользован\" + -0.098*\"муниципальн\" + -0.097*\"имуществ\" + 0.095*\"саморегулируем\" + -0.095*\"мощност\" + 0.094*\"водоотведен\" + -0.091*\"дом\" + -0.091*\"электроэнерг\" + 0.088*\"горяч\" + -0.086*\"объект\" + -0.085*\"чуж\" + 0.082*\"членск\" + -0.081*\"передач\" + -0.081*\"собствен\" + 0.080*\"год\"'),\n",
       " (12,\n",
       "  '-0.499*\"2016\" + 0.333*\"земельн\" + 0.254*\"участк\" + -0.231*\"контракт\" + -0.207*\"год\" + 0.203*\"процент\" + -0.161*\"2015\" + -0.148*\"обществ\" + 0.148*\"средств\" + 0.120*\"работ\" + 0.112*\"ден\" + -0.103*\"электрическ\" + 0.100*\"фактическ\" + 0.097*\"собствен\" + 0.094*\"объект\" + 0.090*\"пользован\" + 0.087*\"чуж\" + 0.086*\"услуг\" + -0.085*\"06\" + -0.085*\"помещен\" + -0.079*\"вагон\" + 0.079*\"товар\" + 0.077*\"кадастров\" + -0.072*\"лизинг\" + -0.071*\"груз\" + -0.071*\"09\" + 0.070*\"вод\" + -0.068*\"08\" + -0.068*\"платеж\" + 0.066*\"участок\"'),\n",
       " (13,\n",
       "  '0.527*\"2016\" + -0.272*\"контракт\" + 0.217*\"земельн\" + -0.175*\"электрическ\" + 0.171*\"участк\" + -0.159*\"организац\" + 0.153*\"теплов\" + -0.144*\"имуществ\" + 0.143*\"2015\" + -0.139*\"взнос\" + -0.133*\"юридическ\" + -0.125*\"член\" + 0.107*\"вод\" + -0.101*\"саморегулируем\" + -0.091*\"членск\" + 0.083*\"09\" + 0.081*\"05\" + -0.080*\"плат\" + 0.079*\"06\" + -0.077*\"времен\" + -0.075*\"обществ\" + -0.075*\"лизинг\" + -0.075*\"арендатор\" + -0.075*\"мест\" + -0.075*\"средств\" + 0.075*\"31\" + 0.074*\"04\" + -0.072*\"некоммерческ\" + -0.068*\"аренд\" + 0.067*\"водоснабжен\"'),\n",
       " (14,\n",
       "  '0.410*\"теплов\" + -0.284*\"электрическ\" + -0.279*\"ден\" + 0.242*\"контракт\" + -0.206*\"пен\" + -0.175*\"фактическ\" + -0.172*\"дня\" + 0.163*\"энерг\" + -0.158*\"наступлен\" + 0.134*\"неустойк\" + -0.131*\"газ\" + 0.108*\"теплоснабжен\" + 0.105*\"груз\" + -0.101*\"дне\" + 0.100*\"теплоносител\" + 0.095*\"средств\" + -0.094*\"календарн\" + 0.092*\"пользован\" + -0.089*\"ставк\" + -0.087*\"просрочк\" + -0.085*\"банк\" + -0.084*\"рефинансирован\" + -0.084*\"2016\" + 0.080*\"последств\" + 0.080*\"вод\" + 0.079*\"горяч\" + -0.078*\"начин\" + -0.076*\"электроэнерг\" + 0.075*\"333\" + 0.074*\"процент\"'),\n",
       " (15,\n",
       "  '0.340*\"груз\" + 0.326*\"вагон\" + -0.302*\"организац\" + -0.242*\"2016\" + -0.205*\"взнос\" + -0.189*\"член\" + 0.169*\"перевозк\" + -0.163*\"саморегулируем\" + 0.146*\"железнодорожн\" + 0.139*\"газ\" + -0.139*\"членск\" + 0.119*\"перевозчик\" + 0.111*\"пен\" + -0.110*\"некоммерческ\" + -0.110*\"товар\" + 0.100*\"ремонт\" + -0.098*\"страхов\" + -0.094*\"ассоциац\" + -0.093*\"арендн\" + 0.086*\"доставк\" + 0.086*\"ден\" + 0.085*\"накладн\" + 0.084*\"транспортн\" + 0.083*\"фактическ\" + -0.081*\"процент\" + 0.080*\"транспорт\" + 0.079*\"убытк\" + -0.075*\"контракт\" + 0.075*\"станц\" + -0.074*\"союз\"'),\n",
       " (16,\n",
       "  '0.347*\"груз\" + 0.299*\"вагон\" + 0.256*\"организац\" + -0.208*\"имуществ\" + 0.174*\"2016\" + 0.172*\"перевозк\" + -0.169*\"обществ\" + 0.169*\"земельн\" + -0.147*\"газ\" + 0.147*\"железнодорожн\" + 0.146*\"взнос\" + 0.140*\"участк\" + -0.135*\"лизинг\" + 0.132*\"член\" + 0.130*\"электрическ\" + 0.120*\"перевозчик\" + 0.118*\"саморегулируем\" + -0.110*\"юридическ\" + 0.110*\"транспортн\" + 0.107*\"плат\" + -0.106*\"сделк\" + 0.100*\"процент\" + 0.099*\"накладн\" + 0.097*\"членск\" + 0.085*\"доставк\" + 0.084*\"ремонт\" + 0.083*\"транспорт\" + 0.078*\"некоммерческ\" + -0.076*\"платеж\" + -0.074*\"помещен\"'),\n",
       " (17,\n",
       "  '0.507*\"газ\" + 0.337*\"год\" + -0.286*\"обществ\" + -0.235*\"юридическ\" + -0.162*\"товар\" + 0.146*\"поставк\" + 0.144*\"имуществ\" + -0.120*\"теплов\" + 0.110*\"взнос\" + 0.109*\"неустойк\" + -0.108*\"ден\" + -0.104*\"пен\" + 0.098*\"объект\" + -0.092*\"плат\" + -0.086*\"участник\" + -0.086*\"арендн\" + -0.085*\"решен\" + 0.083*\"член\" + 0.080*\"месяц\" + 0.078*\"31\" + 0.076*\"покупател\" + -0.076*\"коммунальн\" + 0.075*\"поставщик\" + -0.075*\"фактическ\" + 0.073*\"транспортировк\" + -0.071*\"энерг\" + 0.070*\"членск\" + -0.066*\"дня\" + 0.065*\"собствен\" + -0.065*\"орга\"'),\n",
       " (18,\n",
       "  '-0.537*\"год\" + 0.305*\"имуществ\" + 0.273*\"2016\" + -0.271*\"обществ\" + -0.150*\"2015\" + -0.143*\"процент\" + 0.139*\"объект\" + 0.138*\"лизинг\" + -0.137*\"газ\" + -0.120*\"плат\" + -0.113*\"коммунальн\" + -0.105*\"решен\" + 0.099*\"собствен\" + -0.098*\"юридическ\" + -0.097*\"дом\" + 0.089*\"организац\" + -0.085*\"арендн\" + 0.083*\"недвижим\" + -0.077*\"поставк\" + -0.077*\"участник\" + -0.077*\"многоквартирн\" + -0.076*\"2014\" + 0.073*\"взнос\" + -0.071*\"давност\" + 0.069*\"04\" + 0.067*\"член\" + 0.060*\"саморегулируем\" + -0.059*\"участк\" + -0.059*\"земельн\" + 0.058*\"предмет\"'),\n",
       " (19,\n",
       "  '0.466*\"газ\" + -0.432*\"год\" + -0.245*\"лизинг\" + -0.229*\"2015\" + 0.198*\"2016\" + 0.180*\"обществ\" + -0.159*\"товар\" + 0.151*\"поставк\" + -0.109*\"вод\" + 0.107*\"юридическ\" + -0.107*\"платеж\" + -0.106*\"лизингополучател\" + -0.105*\"2014\" + -0.101*\"водоснабжен\" + -0.098*\"имуществ\" + 0.096*\"процент\" + 0.094*\"контракт\" + -0.090*\"предмет\" + -0.090*\"водоотведен\" + 0.083*\"поставщик\" + -0.083*\"лизингодател\" + -0.082*\"объект\" + -0.078*\"передач\" + 0.076*\"дом\" + 0.073*\"плат\" + 0.072*\"участник\" + 0.071*\"помещен\" + -0.066*\"продаж\" + 0.065*\"месяц\" + 0.063*\"решен\"')]"
      ]
     },
     "execution_count": 9,
     "metadata": {},
     "output_type": "execute_result"
    }
   ],
   "source": [
    "import logging\n",
    "logging.basicConfig(level=logging.INFO)\n",
    "lsi.print_topics(20,30)"
   ]
  },
  {
   "cell_type": "code",
   "execution_count": 10,
   "metadata": {},
   "outputs": [
    {
     "name": "stdout",
     "output_type": "stream",
     "text": [
      "Ассоциация ведущих арбитражных управляющих «Достояние» (далее – Истец, Ассоциация) обратилась в суд с исковым заявлением к арбитражному управляющему Козьмиди Аристиду Кузьмичу (далее – Ответчик) о взыскании задолженности по оплате дополнительного взноса в компенсационный фонд в размере SUM, и задолженности по оплате членских взносов за период с апреля 2016 по 13.04.2018 в размере SUM.\n",
      "Определением от 16.08.2018 исковое заявление было принято к производству, предварительное и судебное заседания назначены на 12.10.2018.\n",
      "Определением от 11.10.2018 судебное заседание было отложено на 14.11.2018 в связи с болезнью судьи.\n",
      "В судебное заседание 14.11.2018 Ответчик, извещенный надлежащим образом о времени и месте судебного заседания не явился, своих представителей не направил.\n",
      "В соответствии с пунктом 3 статьи 156 АПК РФ при неявке в судебное заседание арбитражного суда истца и (или) ответчика, надлежащим образом извещенных о времени и месте судебного разбирательства, суд вправе рассмотреть дело в их отсутствие.\n",
      "Истец в судебное заседание явился, требования поддержал в полном объеме.\n",
      "Арбитражный суд, в порядке статьи 137 АПК РФ завершил предварительное судебное заседание и перешел в судебное разбирательство.\n",
      "Исследовав материалы дела, оценив собранные по делу доказательства в совокупности и взаимосвязи, суд установил, что заявленные требования подлежат удовлетворению по следующим основаниям:\n",
      "05.02.2016 Козьмиди Аристид Кузьмич был принят в члены Ассоциации решением Совета Ассоциации ORG В соответствии с пунктом 2.1. Положения об условиях членства, порядке приема в члены и прекращения членства в ORG от 20.02.2013 (далее - «Положение») - Членами Партнерства могут быть граждане Российской Федерации, осуществляющие профессиональную деятельность в сфере антикризисного управления либо содействующие осуществлению этой деятельности, желающие вступить в Партнерство, признающие и выполняющие положения Устава Партнерства, внутренних положений Партнерства и своевременно уплачивающие членские взносы.\n",
      "Согласно пункту 1.4. Положения о взносах от 01.02.2013 и Протоколу Совета Партнерства от 26.12.2014 об установлении размеров членских взносов - Члены Партнерства ORG обязаны своевременно уплачивать взносы в порядке и в размерах, установленных Решением Совета Партнерства.\n",
      "Обязанность по оплате вступительного, единовременных, ежемесячных взносов закреплена также в пункте 6.2 Устава Ассоциации ORG.\n",
      "Протоколом заседании Совета Партнерства ORG от 26.12.2014 утверждены следующие размеры единовременных и ежемесячных членских взносов, уплачиваемых арбитражными управляющими: ежемесячный членский взнос в размере SUM.\n",
      "Решением общего собрания от 24.04.2017 установлено, что ежемесячный членский взнос в случае ведения арбитражным управляющим дел о несостоятельности (банкротстве) составляет SUM, ежемесячный членский взнос в случае отсутствия дел о несостоятельности (банкротстве) составляет SUM, взнос за назначение SUM.\n",
      "Таким образом, вступив в члены Ассоциации, Ответчик принял на себя обязательства по оплате названных взносов.\n",
      "13.04.2018 Ответчик был исключен из членов Ассоциации решением Совета Ассоциации.\n",
      "Ответчиком была произведена лишь частичная оплата ежемесячных членских взносов, что повлекло образование задолженности по уплате взносов за период с 01.04.2016 по 13.04.2018 в размере SUM в соответствии с расчетом, представленным в материалы дела.\n",
      "Также общим собранием членов Ассоциации от 24.04.2017 было принято решение об установлении дополнительного взноса в компенсационный фонд вносимого каждым членом Ассоциации в целях приведения его в соответствие с требованиями статьи 25.1. Федерального закона «О несостоятельности (банкротстве)», в размере SUM.\n",
      "Ответчик указанный дополнительный взнос в компенсационный фонд не оплатил.\n",
      "Общая сумма задолженности Козьмиди А.К. перед Ассоциацией ORG составляет SUM.\n",
      "В соответствии с пунктом 1 статьи 20 Федерального закона от 26.10.2002 № 127-ORG (далее - Закон о банкротстве), арбитражным управляющим признается гражданин Российской Федерации, являющийся членом одной из саморегулируемых организаций арбитражных управляющих. Арбитражный управляющий является субъектом профессиональной деятельности и осуществляет регулируемую данным Федеральным законом профессиональную деятельность, занимаясь частной практикой.\n",
      "В статье 30 Конституции Российской Федерации установлено, что каждый имеет право на объединение, включая право создавать профессиональные союзы для защиты своих интересов. Свобода деятельности общественных объединений гарантируется. Никто не может быть принужден к вступлению в какое-либо объединение или пребыванию в нем.\n",
      "На основании пункта 1 статьи 8 Федерального закона от 12 января 1996 года № 7-ORG некоммерческим партнерством признается основанная на членстве некоммерческая организация, учрежденная гражданами и (или) юридическими лицами для содействия ее членам в осуществлении деятельности, направленной на достижение целей, предусмотренных пунктом 2 статьи 2 Закона.\n",
      "В силу пунктов 1, 2 статьи 14 Федерального закона «О некоммерческих организациях» учредительным документом партнерства является устав; требования учредительных документов некоммерческой организации обязательны для исполнения самой некоммерческой организацией, ее учредителями (участниками). В учредительных документах некоммерческой организации определяются, в числе прочего права и обязанности членов, условия и порядок приема в члены некоммерческой организации и выхода из нее (в случае, если некоммерческая организация имеет членство), источники формирования имущества некоммерческой организации.\n",
      "Согласно статье 21 Закона о банкротстве саморегулируемая организация арбитражных управляющих действует как некоммерческая организация.\n",
      "Источниками формирования имущества некоммерческой организации в денежной и иных формах являются регулярные и единовременные поступления от учредителей (участников, членов); добровольные имущественные взносы и пожертвования; другие поступления, не запрещенные законом.\n",
      "В соответствии с положениями статей 14, 26 Федерального закона «О некоммерческих организациях» к источникам формирования имущества некоммерческой организации в денежной и иных формах относятся также регулярные и единовременные поступления от учредителей (участников, членов), порядок поступления которых определяется уставом некоммерческой организации.\n",
      "В соответствии с подпунктом 1 пункта 1 статьи 12 Федерального закона «О саморегулируемых организациях» к источникам формирования имущества саморегулируемой организации относятся регулярные и единовременные поступления от членов саморегулируемой организации (вступительные, единовременные, ежемесячные взносы).\n",
      "В силу пункта 3 статьи 12 Федерального закона «О саморегулируемых организациях» порядок регулярных и единовременных поступлений от членов саморегулируемой организации определяется внутренними документами саморегулируемой организации, утвержденными общим собранием членов саморегулируемой организации, если иное не предусмотрено федеральным законом или уставом некоммерческой организации.\n",
      "Условия членства в Ассоциации ORG определены в разделах 5-7 устава Ассоциации. Пунктом 6.2 Устава закреплены, в том числе, обязанности соблюдать положения настоящего устава и других документов партнерства, своевременно вносить указанные в разделе 4 Устава взносы.\n",
      "Согласно статьям 309, 310 ГК РФ обязательства должны исполняться надлежащим образом в соответствии с условиями обязательства и требованиями закона, иных правовых актов. Односторонний отказ от обязательств не допускается.\n",
      "Козьмиди А.К. при приеме в Ассоциацию был ознакомлен со всеми внутренними документами, которые не были оспорены, и, являясь членом Ассоциации, обязан был уплачивать взносы, установленные Ассоциацией.\n",
      "Согласно части 1 статьи 65 АПК РФ каждое лицо, участвующее в деле, должно доказать те обстоятельства, на которые оно ссылается как на основание своих требований и возражений.\n",
      "Ответчик письменных возражений по иску не представил, доказательств оплаты задолженности по взносам, в нарушение статьи 65 АПК РФ, суду также не представил, исковые требования не оспорил ни по праву, ни по размеру.\n",
      "Согласно части 3.1 статьи 70 АПК РФ, обстоятельства, на которые ссылается сторона в обоснование своих требований или возражений, считаются признанными другой стороной, если они ею прямо не оспорены или несогласие с такими обстоятельствами не вытекает из иных доказательств, обосновывающих представленные возражения относительно существа заявленных требований.\n",
      "Арбитражный суд оценивает относимость, допустимость, достоверность каждого доказательства в отдельности, а также достаточность и взаимную связь доказательств в их совокупности. Каждое доказательство подлежит оценке арбитражным судом наряду с другими доказательствами (части 2 и 4 статьи 71 АПК РФ).\n",
      "С учетом изложенного, исковые требования подлежат удовлетворению в полно объеме.\n",
      "В соответствии со статьей 110 АПК РФ расходы по оплате государственной пошлины относятся на Ответчика.\n",
      "Руководствуясь статьями 110, 167-170 АПК Российской Федерации, арбитражный \n",
      "\n",
      "5988\n",
      "\n",
      "Ассоциация саморегулируемой организации «Объединение строителей Приокского региона» обратилась в Арбитражный суд с иском к ORG о взыскании задолженности по уплате членских взносов в сумме SUM\n",
      "Ответчик в судебное заседание не явился, отзыв по делу не представил, не заявил возражений по существу предъявленных исковых требований.\n",
      "Суд, выслушав пояснения истца, исследовав материалы дела, исковые требования истца считает подлежащими удовлетворению в полном объеме по следующим основаниям:\n",
      "31.10.2011 Советом Партнерства – НП ORG ответчик на основании поданного им 26.10.2011 заявления был принят в члены партнерства, что подтверждается протоколом № 33/11.\n",
      "Являясь членом Ассоциации, ORG наделено правами и несет обязательства, предусмотренные законодательством Российской Федерации, Уставом и внутренними положениями Ассоциации.\n",
      "Пунктом 7.1.3 устава Ассоциации предусмотрена обязанность члена Ассоциации своевременно вносить взносы, являющиеся обязательными и регулярными согласно действующему законодательству РФ и/или Уставу, а также в соответствии с внутренними документами Ассоциации.\n",
      "Согласно «Положения о размерах, порядке поступления и учете взносов Ассоциации Саморегулируемой организации «Объединение строителей Приокского региона» (Положение) членские годовые взносы по п. 10.1.11 уплачиваются членами Ассоциации:\n",
      "- ежеквартально;\n",
      "- в размере ? ежегодного членского взноса;\n",
      "- до 20 числа включительно первого месяца текущего квартала;\n",
      "- в порядке наличного или безналичного денежного расчета, а также в виде передачи иного имущества.\n",
      "Размер членских взносов определяется согласно указанному п. 9.2.13 Положения, для членов ассоциации, непредставивших отчетность или представивших отчетность по установленной форме, членский годовой взнос на текущий год устанавливается в размере среднего значения, определенного как результат от деления суммы всех значений взносов по шкале, приведенной в таблице п. 12.2, на количество значений взносов.\n",
      "В связи с непредоставлением бухгалтерской отчетности размер членского взноса определен истцом как SUM в квартал. Ответчиком не уплачены членские взносы за 1 квартал 2017, задолженность составляет SUM\n",
      "Поскольку ответчик в добровольном порядке не перечислял членские взносы, истец обратился в суд с рассматриваемым требованием.\n",
      "Поскольку истец (г. Тула), являясь ассоциацией саморегулируемой организации, обратился в суд с иском о взыскании членских взносов, то в порядке подп. 2 п. 1 ст. 33 АПК Российской Федерации Арбитражный суд Тульской области рассмотрел исковое заявление с соблюдением правил подсудности.\n",
      "При принятии решения суд исходит из того, что согласно п. 1 ст. 26 Федерального закона от 12.01.1996 № 7-ORG одним из источников формирования имущества некоммерческой организации в денежной и иной формах являются регулярные и единовременные поступления от учредителей (участников, членов). Такие поступления не квалифицированы в законе как добровольные, в отличие от иного источника формирования имущества некоммерческой организации как добровольные имущественные взносы и пожертвования.\n",
      "В п. 2 ст. 26 Федерального закона «О некоммерческих организациях» указано, что порядок регулярных поступлений от учредителей (участников, членов) определяется учредительными документами некоммерческий организации.\n",
      "Аналогичные нормы содержатся в Федеральном законе от 01.12.2007 № 315-ORG. Согласно п. 1 ч. 1 ст. 12 названного закона, источниками формирования имущества саморегулируемой организации являются регулярные и единовременные поступления от членов саморегулируемой организации (вступительные, членские и целевые взносы).\n",
      "Порядок регулярных и единовременных поступлений от членов саморегулируемой организации определяется внутренними документами саморегулируемой организации, утвержденными общим собранием членов саморегулируемой организации, если иное не предусмотрено федеральным законом или уставом некоммерческой организации (ч. 3 ст. 12 Федерального закона «О саморегулируемых организациях»).\n",
      "В силу п. 2 ст. 14 Федерального закона от 12.01.1996 № 7-ФЗ требования учредительных документов некоммерческой организации обязательны для исполнения самой некоммерческой организацией, ее членами.\n",
      "Согласно ч. 2 ст. 9 АПК РФ лица, участвующие в деле, несут риск наступления последствий совершения или несовершения ими процессуальных действий.\n",
      "Названные выше обстоятельства ответчиком не опровергнуты и иного им не представлено, равно как не представлен отзыв на исковое заявление.\n",
      "В соответствии с ч. 3.1 ст. 70 АПК Российской Федерации обстоятельства, на которые ссылается сторона в обоснование своих требований или возражений, считаются признанными другой стороной, если они ею прямо не оспорены или несогласие с такими обстоятельствами не вытекает из иных доказательств, обосновывающих представленные возражения относительно существа заявленных требований.\n",
      "На основании ст. 1 ГК РФ граждане (физические лица) и юридические лица приобретают и осуществляют свои гражданские права своей волей и в своем интересе. Они свободны в установлении своих прав и обязанностей на основе договора и в определении любых не противоречащих законодательству условий договора.\n",
      "В соответствии со ст. 309 ГК РФ обязательства должны исполняться надлежащим образом в соответствии с условиями обязательства и требованиями закона, иных правовых актов, а при отсутствии таких условий и требований – в соответствии с обычаями делового оборота или иными обычно предъявляемыми требованиями. Ст. 310 ГК РФ закрепляет общий принцип недопустимости одностороннего отказа от исполнения обязательства.\n",
      "Ответчик доказательства уплаты им членских взносов за спорный период не представил.\n",
      "Таким образом, суд считает требование истца о взыскании задолженности обоснованным и подлежащим удовлетворению в сумме SUM\n",
      "В соответствии со ст. 110 АПК Российской Федерации, исходя из принятого по делу решения, расходы по уплате государственной пошлины в размере SUM подлежат взысканию с ответчика в пользу истца.\n",
      "Руководствуясь ст.ст. 102, 110, 167-170, 176 АПК Российской Федерации, арбитражный \n"
     ]
    }
   ],
   "source": [
    "idx = 5204\n",
    "print(data_samples[idx])\n",
    "doc = corpus_tfidf[idx]\n",
    "vec_lsi = lsi[doc] # convert the vector to LSI space\n",
    "sims = index[vec_lsi] # perform a similarity vector against the corpus\n",
    "most_similar = np.argsort(-sims)[1:]\n",
    "print()\n",
    "print(most_similar[0])\n",
    "print()\n",
    "print(data_samples[most_similar[0]])"
   ]
  },
  {
   "cell_type": "code",
   "execution_count": 11,
   "metadata": {},
   "outputs": [
    {
     "name": "stdout",
     "output_type": "stream",
     "text": [
      "[('организац', 0.4083126169891915), ('взнос', 0.3905598945114006), ('член', 0.3195490046002369), ('ассоциац', 0.284043559644655), ('некоммерческ', 0.266290837166864), ('партнерств', 0.1952799472557003), ('саморегулируем', 0.15977450230011844), ('федеральн', 0.15977450230011844), ('управля', 0.1420217798223275), ('устав', 0.1420217798223275), ('членск', 0.1420217798223275), ('ежемесячн', 0.12426905734453655), ('единовремен', 0.12426905734453655), ('04', 0.10651633486674562), ('документ', 0.10651633486674562), ('деятельн', 0.10651633486674562), ('поступлен', 0.10651633486674562), ('решен', 0.08876361238895468), ('совет', 0.08876361238895468), ('банкротств', 0.08876361238895468), ('членств', 0.08876361238895468), ('14', 0.07101088991116375), ('профессиональн', 0.07101088991116375), ('имуществ', 0.07101088991116375), ('26', 0.07101088991116375), ('уплачива', 0.07101088991116375), ('источник', 0.07101088991116375), ('регулярн', 0.07101088991116375), ('формирован', 0.07101088991116375), ('02', 0.05325816743337281), ('13', 0.05325816743337281), ('2016', 0.05325816743337281), ('внутрен', 0.05325816743337281), ('дополнительн', 0.05325816743337281), ('определя', 0.05325816743337281), ('относ', 0.05325816743337281), ('прием', 0.05325816743337281), ('участник', 0.05325816743337281), ('оспор', 0.05325816743337281), ('своевремен', 0.05325816743337281), ('составля', 0.05325816743337281), ('порядок', 0.05325816743337281), ('фонд', 0.05325816743337281), ('компенсацион', 0.05325816743337281), ('несостоятельн', 0.05325816743337281), ('объединен', 0.05325816743337281), ('собран', 0.05325816743337281), ('учредител', 0.05325816743337281), ('учредительн', 0.05325816743337281), ('24', 0.035505444955581875)]\n",
      "\n",
      "[('организац', 0.4222238511754076), ('взнос', 0.4222238511754076), ('член', 0.29027889768309273), ('членск', 0.29027889768309273), ('ассоциац', 0.2638899069846298), ('саморегулируем', 0.2375009162861668), ('некоммерческ', 0.18472293488924085), ('федеральн', 0.15833394419077787), ('поступлен', 0.15833394419077787), ('регулярн', 0.1319449534923149), ('документ', 0.1055559627938519), ('имуществ', 0.1055559627938519), ('устав', 0.1055559627938519), ('внутрен', 0.07916697209538893), ('законодательств', 0.07916697209538893), ('определя', 0.07916697209538893), ('26', 0.07916697209538893), ('добровольн', 0.07916697209538893), ('значен', 0.07916697209538893), ('кварта', 0.07916697209538893), ('источник', 0.07916697209538893), ('отчетн', 0.07916697209538893), ('единовремен', 0.07916697209538893), ('формирован', 0.07916697209538893), ('2011', 0.05277798139692595), ('назва', 0.05277798139692595), ('обязательн', 0.05277798139692595), ('отз', 0.05277798139692595), ('представл', 0.05277798139692595), ('решен', 0.05277798139692595), ('существ', 0.05277798139692595), ('участник', 0.05277798139692595), ('форм', 0.05277798139692595), ('годов', 0.05277798139692595), ('исход', 0.05277798139692595), ('регион', 0.05277798139692595), ('1996', 0.05277798139692595), ('порядок', 0.05277798139692595), ('явл', 0.05277798139692595), ('объединен', 0.05277798139692595), ('партнерств', 0.05277798139692595), ('33', 0.05277798139692595), ('текущ', 0.05277798139692595), ('строител', 0.05277798139692595), ('учредител', 0.05277798139692595), ('учредительн', 0.05277798139692595), ('13', 0.026388990698462976), ('14', 0.026388990698462976), ('170', 0.026388990698462976), ('176', 0.026388990698462976)]\n"
     ]
    }
   ],
   "source": [
    "tf = sorted(corpus_tfidf[idx], key=lambda x:x[1], reverse=True)[:50]\n",
    "print(list(map(lambda t: (dictionary[t[0]], t[1]), tf)))\n",
    "\n",
    "print()\n",
    "\n",
    "tf_m = sorted(corpus_tfidf[most_similar[0]], key=lambda x:x[1], reverse=True)[:50]\n",
    "print(list(map(lambda t: (dictionary[t[0]], t[1]), tf_m)))"
   ]
  },
  {
   "cell_type": "code",
   "execution_count": 13,
   "metadata": {},
   "outputs": [
    {
     "data": {
      "text/plain": [
       "[1.0,\n",
       " 0.9144218,\n",
       " 0.90630114,\n",
       " 0.892838,\n",
       " 0.8876095,\n",
       " 0.87976706,\n",
       " 0.87901235,\n",
       " 0.87850916,\n",
       " 0.8777498,\n",
       " 0.8767438,\n",
       " 0.87469506,\n",
       " 0.87201643,\n",
       " 0.87059724,\n",
       " 0.8690231,\n",
       " 0.8686278,\n",
       " 0.86848295,\n",
       " 0.86847556,\n",
       " 0.8680514,\n",
       " 0.86776567,\n",
       " 0.8668783,\n",
       " 0.86329687,\n",
       " 0.86137694,\n",
       " 0.86079144,\n",
       " 0.85988617,\n",
       " 0.8589156,\n",
       " 0.8564124,\n",
       " 0.8509997,\n",
       " 0.8501146,\n",
       " 0.8496746,\n",
       " 0.8492484,\n",
       " 0.8456943,\n",
       " 0.8429325,\n",
       " 0.84284806,\n",
       " 0.84150517,\n",
       " 0.8411841,\n",
       " 0.840686,\n",
       " 0.83879447,\n",
       " 0.8383908,\n",
       " 0.8382524,\n",
       " 0.8381691,\n",
       " 0.8343123,\n",
       " 0.83363795,\n",
       " 0.832708,\n",
       " 0.83267134,\n",
       " 0.83219165,\n",
       " 0.83098996,\n",
       " 0.8289981,\n",
       " 0.82878804,\n",
       " 0.82780355,\n",
       " 0.82773167]"
      ]
     },
     "execution_count": 13,
     "metadata": {},
     "output_type": "execute_result"
    }
   ],
   "source": [
    "sorted(sims, reverse=True)[:50]"
   ]
  },
  {
   "cell_type": "code",
   "execution_count": null,
   "metadata": {},
   "outputs": [],
   "source": []
  },
  {
   "cell_type": "code",
   "execution_count": null,
   "metadata": {},
   "outputs": [],
   "source": [
    "class StemmedCountVectorizer(CountVectorizer):\n",
    "    def build_analyzer(self):\n",
    "        analyzer = super(StemmedCountVectorizer, self).build_analyzer()\n",
    "        return lambda doc: ([CACHE[w] for w in analyzer(doc) if w not in STOP_WORDS])\n",
    "\n",
    "\n",
    "class StemmedTfidfVectorizer(TfidfVectorizer):\n",
    "    def build_analyzer(self):\n",
    "        analyzer = super(StemmedTfidfVectorizer, self).build_analyzer()\n",
    "        return lambda doc: ([CACHE[w] for w in analyzer(doc) if w not in STOP_WORDS])\n",
    "\n",
    "\n",
    "# Use tf-idf features for NMF.\n",
    "print(\"Extracting tf-idf features for NMF...\")\n",
    "tfidf_vectorizer = StemmedTfidfVectorizer(max_df=0.9, min_df=2,\n",
    "                                   max_features=n_features,\n",
    "                                   stop_words=None)\n",
    "t0 = time()\n",
    "tfidf = tfidf_vectorizer.fit_transform(data_samples)\n",
    "print(\"done in %0.3fs.\" % (time() - t0))\n",
    "\n",
    "# Use tf (raw term count) features for LDA.\n",
    "print(\"Extracting tf features for LDA...\")\n",
    "tf_vectorizer = StemmedCountVectorizer(max_df=0.9, min_df=2,\n",
    "                                max_features=n_features,\n",
    "                                stop_words=None)\n",
    "t0 = time()\n",
    "tf = tf_vectorizer.fit_transform(data_samples)\n",
    "print(\"done in %0.3fs.\" % (time() - t0))\n",
    "print()\n",
    "\n",
    "# Fit the NMF model\n",
    "print(\"Fitting the NMF model (Frobenius norm) with tf-idf features, \"\n",
    "      \"n_samples=%d and n_features=%d...\"\n",
    "      % (n_samples, n_features))\n",
    "t0 = time()\n",
    "nmf = NMF(n_components=n_components, random_state=1,\n",
    "          alpha=.1, l1_ratio=.5).fit(tfidf)\n",
    "print(\"done in %0.3fs.\" % (time() - t0))\n",
    "\n",
    "print(\"\\nTopics in NMF model (Frobenius norm):\")\n",
    "tfidf_feature_names = tfidf_vectorizer.get_feature_names()\n",
    "print_top_words(nmf, tfidf_feature_names, n_top_words)\n",
    "\n",
    "# Fit the NMF model\n",
    "print(\"Fitting the NMF model (generalized Kullback-Leibler divergence) with \"\n",
    "      \"tf-idf features, n_samples=%d and n_features=%d...\"\n",
    "      % (n_samples, n_features))\n",
    "t0 = time()\n",
    "nmf = NMF(n_components=n_components, random_state=1,\n",
    "          beta_loss='kullback-leibler', solver='mu', max_iter=1000, alpha=.1,\n",
    "          l1_ratio=.5).fit(tfidf)\n",
    "print(\"done in %0.3fs.\" % (time() - t0))\n",
    "\n",
    "print(\"\\nTopics in NMF model (generalized Kullback-Leibler divergence):\")\n",
    "tfidf_feature_names = tfidf_vectorizer.get_feature_names()\n",
    "print_top_words(nmf, tfidf_feature_names, n_top_words)\n",
    "\n",
    "print(\"Fitting LDA models with tf features, \"\n",
    "      \"n_samples=%d and n_features=%d...\"\n",
    "      % (n_samples, n_features))\n",
    "lda = LatentDirichletAllocation(n_components=n_components, max_iter=5,\n",
    "                                learning_method='online',\n",
    "                                learning_offset=50.,\n",
    "                                random_state=0)\n",
    "t0 = time()\n",
    "lda.fit(tf)\n",
    "print(\"done in %0.3fs.\" % (time() - t0))\n",
    "\n",
    "print(\"\\nTopics in LDA model:\")\n",
    "tf_feature_names = tf_vectorizer.get_feature_names()\n",
    "print_top_words(lda, tf_feature_names, n_top_words)"
   ]
  }
 ],
 "metadata": {
  "kernelspec": {
   "display_name": "Python 3",
   "language": "python",
   "name": "python3"
  },
  "language_info": {
   "codemirror_mode": {
    "name": "ipython",
    "version": 3
   },
   "file_extension": ".py",
   "mimetype": "text/x-python",
   "name": "python",
   "nbconvert_exporter": "python",
   "pygments_lexer": "ipython3",
   "version": "3.6.7"
  }
 },
 "nbformat": 4,
 "nbformat_minor": 1
}
